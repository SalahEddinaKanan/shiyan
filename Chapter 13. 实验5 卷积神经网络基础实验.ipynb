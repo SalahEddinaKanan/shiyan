{
 "cells": [
  {
   "cell_type": "markdown",
   "metadata": {},
   "source": [
    "# <center> <b> 实验五 卷积神经网络基础实验 </b> </center>  \n",
    "本实验通过MNIST手写数字分类识别案例来说明卷积神经网络的基本架构和分析方法\n",
    "\n",
    "## 实验目的\n",
    "1. 了解卷积神经网络的工作原理\n",
    "2. 掌握利用tensorflow构建神经网络的方法\n",
    "3. 学习掌握numpy,tensorflow等库的使用\n",
    "\n",
    "## 实验工具\n",
    "1. Anaconda, Jupyter Notebook\n",
    "2. numpy, pandas,sklearn, matplotlib\n",
    "3. tensorflow\n",
    "\n",
    "## 实验内容\n",
    "\n",
    "**1. 加载库**"
   ]
  },
  {
   "cell_type": "code",
   "execution_count": 1,
   "metadata": {},
   "outputs": [
    {
     "ename": "ModuleNotFoundError",
     "evalue": "No module named 'tensorflow'",
     "output_type": "error",
     "traceback": [
      "\u001b[1;31m---------------------------------------------------------------------------\u001b[0m",
      "\u001b[1;31mModuleNotFoundError\u001b[0m                       Traceback (most recent call last)",
      "\u001b[1;32m<ipython-input-1-19ae9c3e8c85>\u001b[0m in \u001b[0;36m<module>\u001b[1;34m\u001b[0m\n\u001b[0;32m      1\u001b[0m \u001b[1;32mimport\u001b[0m \u001b[0mmatplotlib\u001b[0m\u001b[1;33m.\u001b[0m\u001b[0mpyplot\u001b[0m \u001b[1;32mas\u001b[0m \u001b[0mplt\u001b[0m\u001b[1;33m\u001b[0m\u001b[1;33m\u001b[0m\u001b[0m\n\u001b[0;32m      2\u001b[0m \u001b[1;32mimport\u001b[0m \u001b[0mnumpy\u001b[0m \u001b[1;32mas\u001b[0m \u001b[0mnp\u001b[0m\u001b[1;33m\u001b[0m\u001b[1;33m\u001b[0m\u001b[0m\n\u001b[1;32m----> 3\u001b[1;33m \u001b[1;32mimport\u001b[0m \u001b[0mtensorflow\u001b[0m \u001b[1;32mas\u001b[0m \u001b[0mtf\u001b[0m\u001b[1;33m\u001b[0m\u001b[1;33m\u001b[0m\u001b[0m\n\u001b[0m\u001b[0;32m      4\u001b[0m \u001b[1;32mfrom\u001b[0m \u001b[0mtensorflow\u001b[0m\u001b[1;33m.\u001b[0m\u001b[0mcontrib\u001b[0m\u001b[1;33m.\u001b[0m\u001b[0mlearn\u001b[0m\u001b[1;33m.\u001b[0m\u001b[0mpython\u001b[0m\u001b[1;33m.\u001b[0m\u001b[0mlearn\u001b[0m\u001b[1;33m.\u001b[0m\u001b[0mdatasets\u001b[0m\u001b[1;33m.\u001b[0m\u001b[0mmnist\u001b[0m \u001b[1;32mimport\u001b[0m \u001b[0mread_data_sets\u001b[0m\u001b[1;33m\u001b[0m\u001b[1;33m\u001b[0m\u001b[0m\n\u001b[0;32m      5\u001b[0m \u001b[1;32mfrom\u001b[0m \u001b[0mtensorflow\u001b[0m\u001b[1;33m.\u001b[0m\u001b[0mpython\u001b[0m\u001b[1;33m.\u001b[0m\u001b[0mframework\u001b[0m \u001b[1;32mimport\u001b[0m \u001b[0mops\u001b[0m\u001b[1;33m\u001b[0m\u001b[1;33m\u001b[0m\u001b[0m\n",
      "\u001b[1;31mModuleNotFoundError\u001b[0m: No module named 'tensorflow'"
     ]
    }
   ],
   "source": [
    "import matplotlib.pyplot as plt\n",
    "import numpy as np\n",
    "import tensorflow as tf\n",
    "from tensorflow.contrib.learn.python.learn.datasets.mnist import read_data_sets\n",
    "from tensorflow.python.framework import ops\n",
    "ops.reset_default_graph()"
   ]
  },
  {
   "cell_type": "markdown",
   "metadata": {},
   "source": [
    "**启动TensorFlow会话运行环境**"
   ]
  },
  {
   "cell_type": "code",
   "execution_count": 2,
   "metadata": {},
   "outputs": [],
   "source": [
    "sess = tf.Session()"
   ]
  },
  {
   "cell_type": "markdown",
   "metadata": {},
   "source": [
    "**2. 加载MNIST手写数字数据集**"
   ]
  },
  {
   "cell_type": "code",
   "execution_count": 3,
   "metadata": {},
   "outputs": [
    {
     "name": "stdout",
     "output_type": "stream",
     "text": [
      "WARNING:tensorflow:From <ipython-input-3-13cc4452f4a9>:2: read_data_sets (from tensorflow.contrib.learn.python.learn.datasets.mnist) is deprecated and will be removed in a future version.\n",
      "Instructions for updating:\n",
      "Please use alternatives such as official/mnist/dataset.py from tensorflow/models.\n",
      "WARNING:tensorflow:From C:\\Prog\\Anaconda3\\envs\\BDAI\\lib\\site-packages\\tensorflow_core\\contrib\\learn\\python\\learn\\datasets\\mnist.py:260: maybe_download (from tensorflow.contrib.learn.python.learn.datasets.base) is deprecated and will be removed in a future version.\n",
      "Instructions for updating:\n",
      "Please write your own downloading logic.\n",
      "WARNING:tensorflow:From C:\\Prog\\Anaconda3\\envs\\BDAI\\lib\\site-packages\\tensorflow_core\\contrib\\learn\\python\\learn\\datasets\\mnist.py:262: extract_images (from tensorflow.contrib.learn.python.learn.datasets.mnist) is deprecated and will be removed in a future version.\n",
      "Instructions for updating:\n",
      "Please use tf.data to implement this functionality.\n",
      "Extracting Datasets\\train-images-idx3-ubyte.gz\n",
      "WARNING:tensorflow:From C:\\Prog\\Anaconda3\\envs\\BDAI\\lib\\site-packages\\tensorflow_core\\contrib\\learn\\python\\learn\\datasets\\mnist.py:267: extract_labels (from tensorflow.contrib.learn.python.learn.datasets.mnist) is deprecated and will be removed in a future version.\n",
      "Instructions for updating:\n",
      "Please use tf.data to implement this functionality.\n",
      "Extracting Datasets\\train-labels-idx1-ubyte.gz\n",
      "Extracting Datasets\\t10k-images-idx3-ubyte.gz\n",
      "Extracting Datasets\\t10k-labels-idx1-ubyte.gz\n",
      "WARNING:tensorflow:From C:\\Prog\\Anaconda3\\envs\\BDAI\\lib\\site-packages\\tensorflow_core\\contrib\\learn\\python\\learn\\datasets\\mnist.py:290: DataSet.__init__ (from tensorflow.contrib.learn.python.learn.datasets.mnist) is deprecated and will be removed in a future version.\n",
      "Instructions for updating:\n",
      "Please use alternatives such as official/mnist/dataset.py from tensorflow/models.\n"
     ]
    }
   ],
   "source": [
    "data_dir = 'Datasets'\n",
    "mnist = read_data_sets(data_dir)"
   ]
  },
  {
   "cell_type": "markdown",
   "metadata": {},
   "source": [
    "**转换数据表示**"
   ]
  },
  {
   "cell_type": "code",
   "execution_count": 4,
   "metadata": {},
   "outputs": [],
   "source": [
    "# 图片转换成28*28格式\n",
    "train_xdata = np.array([np.reshape(x, (28,28)) for x in mnist.train.images])\n",
    "test_xdata = np.array([np.reshape(x, (28,28)) for x in mnist.test.images])\n",
    "\n",
    "# 标签转换成独热码格式\n",
    "train_labels = mnist.train.labels\n",
    "test_labels = mnist.test.labels"
   ]
  },
  {
   "cell_type": "markdown",
   "metadata": {},
   "source": [
    "**3. 设置模型参数**"
   ]
  },
  {
   "cell_type": "code",
   "execution_count": 5,
   "metadata": {},
   "outputs": [],
   "source": [
    "batch_size = 100\n",
    "learning_rate = 0.005\n",
    "evaluation_size = 500\n",
    "image_width = train_xdata[0].shape[0]\n",
    "image_height = train_xdata[0].shape[1]\n",
    "target_size = max(train_labels) + 1\n",
    "num_channels = 1 #灰度图片\n",
    "generations = 500\n",
    "eval_every = 5\n",
    "conv1_features = 25\n",
    "conv2_features = 50\n",
    "max_pool_size1 = 2 # 第一层最大池化采用2*2\n",
    "max_pool_size2 = 2 # 第一层最大池化采用2*2\n",
    "fully_connected_size1 = 100"
   ]
  },
  {
   "cell_type": "markdown",
   "metadata": {},
   "source": [
    "**3. 定义模型的输入输出**"
   ]
  },
  {
   "cell_type": "code",
   "execution_count": 6,
   "metadata": {},
   "outputs": [],
   "source": [
    "x_input_shape = (batch_size, image_width, image_height, num_channels)\n",
    "x_input = tf.placeholder(tf.float32, shape=x_input_shape)\n",
    "y_target = tf.placeholder(tf.int32, shape=(batch_size))\n",
    "\n",
    "eval_input_shape = (evaluation_size, image_width, image_height, num_channels)\n",
    "eval_input = tf.placeholder(tf.float32, shape=eval_input_shape)\n",
    "eval_target = tf.placeholder(tf.int32, shape=(evaluation_size))"
   ]
  },
  {
   "cell_type": "markdown",
   "metadata": {},
   "source": [
    "**4. 定义卷积神经网络结构**\n",
    "1. 两个卷积层(4*4)\n",
    "2. 两个池化层(2*2)\n",
    "3. 全连接层(1个隐含层) \n",
    "\n",
    "定义网络模型相关的**参数**"
   ]
  },
  {
   "cell_type": "code",
   "execution_count": 7,
   "metadata": {},
   "outputs": [],
   "source": [
    "# 卷积层的权重和偏移\n",
    "conv1_weight = tf.Variable(tf.truncated_normal([4, 4, num_channels, conv1_features], stddev=0.1, dtype=tf.float32))\n",
    "conv1_bias = tf.Variable(tf.zeros([conv1_features], dtype=tf.float32))\n",
    "\n",
    "conv2_weight = tf.Variable(tf.truncated_normal([4, 4, conv1_features, conv2_features], stddev=0.1, dtype=tf.float32))\n",
    "conv2_bias = tf.Variable(tf.zeros([conv2_features], dtype=tf.float32))\n",
    "\n",
    "# 全连接层输入参数\n",
    "resulting_width = image_width // (max_pool_size1 * max_pool_size2)\n",
    "resulting_height = image_height // (max_pool_size1 * max_pool_size2)\n",
    "full1_input_size = resulting_width * resulting_height * conv2_features\n",
    "\n",
    "#全连接层\n",
    "full1_weight = tf.Variable(tf.truncated_normal([full1_input_size, fully_connected_size1], stddev=0.1, dtype=tf.float32))\n",
    "full1_bias = tf.Variable(tf.truncated_normal([fully_connected_size1], stddev=0.1, dtype=tf.float32))\n",
    "full2_weight = tf.Variable(tf.truncated_normal([fully_connected_size1, target_size], stddev=0.1, dtype=tf.float32))\n",
    "full2_bias = tf.Variable(tf.truncated_normal([target_size], stddev=0.1, dtype=tf.float32))"
   ]
  },
  {
   "cell_type": "markdown",
   "metadata": {},
   "source": [
    "**定义卷积神经网络结构**  \n",
    "(卷积1)-->(激活1)-->(最大池化1)-->(卷积2)-->(激活2)-->(最大池化2)-->(全连接层1)-->(全连接层2)-->预测输出"
   ]
  },
  {
   "cell_type": "code",
   "execution_count": 8,
   "metadata": {},
   "outputs": [],
   "source": [
    "def Lab5_conv_net(input_data):\n",
    "    # 第一Conv-ReLU-MaxPool层\n",
    "    conv1 = tf.nn.conv2d(input_data, conv1_weight, strides=[1, 1, 1, 1], padding='SAME')\n",
    "    relu1 = tf.nn.relu(tf.nn.bias_add(conv1, conv1_bias))\n",
    "    max_pool1 = tf.nn.max_pool(relu1, ksize=[1, max_pool_size1, max_pool_size1, 1],\n",
    "                               strides=[1, max_pool_size1, max_pool_size1, 1], padding='SAME')\n",
    "\n",
    "    # 第二Conv-ReLU-MaxPool层\n",
    "    conv2 = tf.nn.conv2d(max_pool1, conv2_weight, strides=[1, 1, 1, 1], padding='SAME')\n",
    "    relu2 = tf.nn.relu(tf.nn.bias_add(conv2, conv2_bias))\n",
    "    max_pool2 = tf.nn.max_pool(relu2, ksize=[1, max_pool_size2, max_pool_size2, 1],\n",
    "                               strides=[1, max_pool_size2, max_pool_size2, 1], padding='SAME')\n",
    "\n",
    "    # 连接到全连接输入层\n",
    "    final_conv_shape = max_pool2.get_shape().as_list()\n",
    "    final_shape = final_conv_shape[1] * final_conv_shape[2] * final_conv_shape[3]\n",
    "    flat_output = tf.reshape(max_pool2, [final_conv_shape[0], final_shape])\n",
    "\n",
    "    # 第一全连接层\n",
    "    fully_connected1 = tf.nn.relu(tf.add(tf.matmul(flat_output, full1_weight), full1_bias))\n",
    "\n",
    "    # 第二全连接层\n",
    "    final_model_output = tf.add(tf.matmul(fully_connected1, full2_weight), full2_bias)\n",
    "    \n",
    "    return(final_model_output)\n",
    "\n",
    "model_output = Lab5_conv_net(x_input)\n",
    "test_model_output = Lab5_conv_net(eval_input)"
   ]
  },
  {
   "cell_type": "markdown",
   "metadata": {},
   "source": [
    "采用softmax交叉熵损失函数"
   ]
  },
  {
   "cell_type": "code",
   "execution_count": 9,
   "metadata": {},
   "outputs": [],
   "source": [
    "loss = tf.reduce_mean(tf.nn.sparse_softmax_cross_entropy_with_logits(logits=model_output, labels=y_target))"
   ]
  },
  {
   "cell_type": "markdown",
   "metadata": {},
   "source": [
    "定于预测节点和测试节点函数"
   ]
  },
  {
   "cell_type": "code",
   "execution_count": 10,
   "metadata": {},
   "outputs": [],
   "source": [
    "# 定于预测节点和测试节点\n",
    "prediction = tf.nn.softmax(model_output)\n",
    "test_prediction = tf.nn.softmax(test_model_output)\n",
    "\n",
    "# 定义精度评价函数\n",
    "def get_accuracy(logits, targets):\n",
    "    batch_predictions = np.argmax(logits, axis=1)\n",
    "    num_correct = np.sum(np.equal(batch_predictions, targets))\n",
    "    return(100. * num_correct/batch_predictions.shape[0])"
   ]
  },
  {
   "cell_type": "markdown",
   "metadata": {},
   "source": [
    "采用Momentum优化器，学习率为0.005，学习率衰减为0.9"
   ]
  },
  {
   "cell_type": "code",
   "execution_count": 11,
   "metadata": {},
   "outputs": [],
   "source": [
    "my_optimizer = tf.train.MomentumOptimizer(learning_rate, 0.9)\n",
    "train_step = my_optimizer.minimize(loss)\n",
    "\n",
    "# 初始化\n",
    "init = tf.global_variables_initializer()\n",
    "sess.run(init)"
   ]
  },
  {
   "cell_type": "markdown",
   "metadata": {},
   "source": [
    "**5. 启动训练**"
   ]
  },
  {
   "cell_type": "code",
   "execution_count": 12,
   "metadata": {
    "scrolled": true
   },
   "outputs": [
    {
     "name": "stdout",
     "output_type": "stream",
     "text": [
      "Generation # 5. Train Loss: 2.28. Train Acc (Test Acc): 19.00 (17.00)\n",
      "Generation # 10. Train Loss: 2.20. Train Acc (Test Acc): 22.00 (26.40)\n",
      "Generation # 15. Train Loss: 2.12. Train Acc (Test Acc): 30.00 (34.40)\n",
      "Generation # 20. Train Loss: 1.90. Train Acc (Test Acc): 42.00 (46.20)\n",
      "Generation # 25. Train Loss: 1.76. Train Acc (Test Acc): 48.00 (51.60)\n",
      "Generation # 30. Train Loss: 1.42. Train Acc (Test Acc): 74.00 (69.40)\n",
      "Generation # 35. Train Loss: 1.16. Train Acc (Test Acc): 71.00 (68.60)\n",
      "Generation # 40. Train Loss: 0.93. Train Acc (Test Acc): 75.00 (75.20)\n",
      "Generation # 45. Train Loss: 0.84. Train Acc (Test Acc): 78.00 (78.60)\n",
      "Generation # 50. Train Loss: 0.70. Train Acc (Test Acc): 83.00 (84.80)\n",
      "Generation # 55. Train Loss: 0.47. Train Acc (Test Acc): 86.00 (83.20)\n",
      "Generation # 60. Train Loss: 0.52. Train Acc (Test Acc): 84.00 (87.20)\n",
      "Generation # 65. Train Loss: 0.31. Train Acc (Test Acc): 92.00 (85.60)\n",
      "Generation # 70. Train Loss: 0.37. Train Acc (Test Acc): 91.00 (86.00)\n",
      "Generation # 75. Train Loss: 0.32. Train Acc (Test Acc): 90.00 (89.40)\n",
      "Generation # 80. Train Loss: 0.31. Train Acc (Test Acc): 88.00 (88.40)\n",
      "Generation # 85. Train Loss: 0.38. Train Acc (Test Acc): 89.00 (90.00)\n",
      "Generation # 90. Train Loss: 0.41. Train Acc (Test Acc): 88.00 (89.80)\n",
      "Generation # 95. Train Loss: 0.39. Train Acc (Test Acc): 88.00 (88.00)\n",
      "Generation # 100. Train Loss: 0.30. Train Acc (Test Acc): 87.00 (87.80)\n",
      "Generation # 105. Train Loss: 0.28. Train Acc (Test Acc): 91.00 (91.00)\n",
      "Generation # 110. Train Loss: 0.38. Train Acc (Test Acc): 90.00 (91.20)\n",
      "Generation # 115. Train Loss: 0.36. Train Acc (Test Acc): 88.00 (92.60)\n",
      "Generation # 120. Train Loss: 0.23. Train Acc (Test Acc): 90.00 (92.80)\n",
      "Generation # 125. Train Loss: 0.37. Train Acc (Test Acc): 90.00 (90.00)\n",
      "Generation # 130. Train Loss: 0.24. Train Acc (Test Acc): 93.00 (91.20)\n",
      "Generation # 135. Train Loss: 0.38. Train Acc (Test Acc): 92.00 (91.80)\n",
      "Generation # 140. Train Loss: 0.40. Train Acc (Test Acc): 89.00 (93.40)\n",
      "Generation # 145. Train Loss: 0.23. Train Acc (Test Acc): 93.00 (91.20)\n",
      "Generation # 150. Train Loss: 0.28. Train Acc (Test Acc): 93.00 (93.80)\n",
      "Generation # 155. Train Loss: 0.22. Train Acc (Test Acc): 93.00 (90.60)\n",
      "Generation # 160. Train Loss: 0.23. Train Acc (Test Acc): 92.00 (91.20)\n",
      "Generation # 165. Train Loss: 0.23. Train Acc (Test Acc): 91.00 (91.80)\n",
      "Generation # 170. Train Loss: 0.15. Train Acc (Test Acc): 97.00 (94.40)\n",
      "Generation # 175. Train Loss: 0.37. Train Acc (Test Acc): 90.00 (94.20)\n",
      "Generation # 180. Train Loss: 0.14. Train Acc (Test Acc): 97.00 (93.00)\n",
      "Generation # 185. Train Loss: 0.22. Train Acc (Test Acc): 91.00 (92.00)\n",
      "Generation # 190. Train Loss: 0.16. Train Acc (Test Acc): 95.00 (92.00)\n",
      "Generation # 195. Train Loss: 0.32. Train Acc (Test Acc): 89.00 (93.40)\n",
      "Generation # 200. Train Loss: 0.13. Train Acc (Test Acc): 98.00 (92.40)\n",
      "Generation # 205. Train Loss: 0.23. Train Acc (Test Acc): 95.00 (93.80)\n",
      "Generation # 210. Train Loss: 0.30. Train Acc (Test Acc): 93.00 (93.00)\n",
      "Generation # 215. Train Loss: 0.35. Train Acc (Test Acc): 91.00 (94.20)\n",
      "Generation # 220. Train Loss: 0.16. Train Acc (Test Acc): 96.00 (93.40)\n",
      "Generation # 225. Train Loss: 0.20. Train Acc (Test Acc): 94.00 (92.60)\n",
      "Generation # 230. Train Loss: 0.24. Train Acc (Test Acc): 90.00 (95.60)\n",
      "Generation # 235. Train Loss: 0.19. Train Acc (Test Acc): 94.00 (94.40)\n",
      "Generation # 240. Train Loss: 0.18. Train Acc (Test Acc): 93.00 (94.80)\n",
      "Generation # 245. Train Loss: 0.27. Train Acc (Test Acc): 93.00 (95.80)\n",
      "Generation # 250. Train Loss: 0.38. Train Acc (Test Acc): 86.00 (95.00)\n",
      "Generation # 255. Train Loss: 0.18. Train Acc (Test Acc): 95.00 (95.40)\n",
      "Generation # 260. Train Loss: 0.25. Train Acc (Test Acc): 90.00 (92.60)\n",
      "Generation # 265. Train Loss: 0.13. Train Acc (Test Acc): 97.00 (94.40)\n",
      "Generation # 270. Train Loss: 0.14. Train Acc (Test Acc): 96.00 (93.80)\n",
      "Generation # 275. Train Loss: 0.14. Train Acc (Test Acc): 98.00 (92.80)\n",
      "Generation # 280. Train Loss: 0.35. Train Acc (Test Acc): 91.00 (94.80)\n",
      "Generation # 285. Train Loss: 0.14. Train Acc (Test Acc): 97.00 (91.40)\n",
      "Generation # 290. Train Loss: 0.20. Train Acc (Test Acc): 93.00 (94.20)\n",
      "Generation # 295. Train Loss: 0.12. Train Acc (Test Acc): 96.00 (92.80)\n",
      "Generation # 300. Train Loss: 0.15. Train Acc (Test Acc): 95.00 (94.20)\n",
      "Generation # 305. Train Loss: 0.30. Train Acc (Test Acc): 88.00 (93.40)\n",
      "Generation # 310. Train Loss: 0.15. Train Acc (Test Acc): 96.00 (94.00)\n",
      "Generation # 315. Train Loss: 0.24. Train Acc (Test Acc): 91.00 (94.20)\n",
      "Generation # 320. Train Loss: 0.10. Train Acc (Test Acc): 97.00 (94.20)\n",
      "Generation # 325. Train Loss: 0.14. Train Acc (Test Acc): 96.00 (94.80)\n",
      "Generation # 330. Train Loss: 0.10. Train Acc (Test Acc): 99.00 (95.20)\n",
      "Generation # 335. Train Loss: 0.13. Train Acc (Test Acc): 97.00 (95.80)\n",
      "Generation # 340. Train Loss: 0.22. Train Acc (Test Acc): 92.00 (95.80)\n",
      "Generation # 345. Train Loss: 0.21. Train Acc (Test Acc): 97.00 (95.80)\n",
      "Generation # 350. Train Loss: 0.16. Train Acc (Test Acc): 97.00 (94.80)\n",
      "Generation # 355. Train Loss: 0.15. Train Acc (Test Acc): 96.00 (94.20)\n",
      "Generation # 360. Train Loss: 0.10. Train Acc (Test Acc): 97.00 (95.60)\n",
      "Generation # 365. Train Loss: 0.07. Train Acc (Test Acc): 99.00 (93.60)\n",
      "Generation # 370. Train Loss: 0.10. Train Acc (Test Acc): 97.00 (96.00)\n",
      "Generation # 375. Train Loss: 0.13. Train Acc (Test Acc): 94.00 (96.80)\n",
      "Generation # 380. Train Loss: 0.19. Train Acc (Test Acc): 94.00 (96.00)\n",
      "Generation # 385. Train Loss: 0.18. Train Acc (Test Acc): 96.00 (96.00)\n",
      "Generation # 390. Train Loss: 0.24. Train Acc (Test Acc): 92.00 (96.80)\n",
      "Generation # 395. Train Loss: 0.13. Train Acc (Test Acc): 97.00 (94.60)\n",
      "Generation # 400. Train Loss: 0.12. Train Acc (Test Acc): 98.00 (96.60)\n",
      "Generation # 405. Train Loss: 0.17. Train Acc (Test Acc): 94.00 (93.60)\n",
      "Generation # 410. Train Loss: 0.15. Train Acc (Test Acc): 97.00 (96.40)\n",
      "Generation # 415. Train Loss: 0.22. Train Acc (Test Acc): 94.00 (97.80)\n",
      "Generation # 420. Train Loss: 0.14. Train Acc (Test Acc): 96.00 (94.40)\n",
      "Generation # 425. Train Loss: 0.07. Train Acc (Test Acc): 98.00 (96.80)\n",
      "Generation # 430. Train Loss: 0.10. Train Acc (Test Acc): 96.00 (97.40)\n",
      "Generation # 435. Train Loss: 0.17. Train Acc (Test Acc): 96.00 (95.20)\n",
      "Generation # 440. Train Loss: 0.14. Train Acc (Test Acc): 96.00 (95.00)\n",
      "Generation # 445. Train Loss: 0.15. Train Acc (Test Acc): 96.00 (93.80)\n",
      "Generation # 450. Train Loss: 0.14. Train Acc (Test Acc): 96.00 (95.20)\n",
      "Generation # 455. Train Loss: 0.17. Train Acc (Test Acc): 97.00 (97.00)\n",
      "Generation # 460. Train Loss: 0.06. Train Acc (Test Acc): 99.00 (95.40)\n",
      "Generation # 465. Train Loss: 0.04. Train Acc (Test Acc): 100.00 (94.80)\n",
      "Generation # 470. Train Loss: 0.07. Train Acc (Test Acc): 98.00 (95.80)\n",
      "Generation # 475. Train Loss: 0.19. Train Acc (Test Acc): 94.00 (95.80)\n",
      "Generation # 480. Train Loss: 0.22. Train Acc (Test Acc): 95.00 (95.00)\n",
      "Generation # 485. Train Loss: 0.09. Train Acc (Test Acc): 95.00 (93.40)\n",
      "Generation # 490. Train Loss: 0.09. Train Acc (Test Acc): 96.00 (96.00)\n",
      "Generation # 495. Train Loss: 0.12. Train Acc (Test Acc): 97.00 (96.20)\n",
      "Generation # 500. Train Loss: 0.10. Train Acc (Test Acc): 98.00 (95.40)\n"
     ]
    }
   ],
   "source": [
    "train_loss = []\n",
    "train_acc = []\n",
    "test_acc = []\n",
    "for i in range(generations):\n",
    "    rand_index = np.random.choice(len(train_xdata), size=batch_size)\n",
    "    rand_x = train_xdata[rand_index]\n",
    "    rand_x = np.expand_dims(rand_x, 3)\n",
    "    rand_y = train_labels[rand_index]\n",
    "    train_dict = {x_input: rand_x, y_target: rand_y}\n",
    "    \n",
    "    sess.run(train_step, feed_dict=train_dict)\n",
    "    temp_train_loss, temp_train_preds = sess.run([loss, prediction], feed_dict=train_dict)\n",
    "    temp_train_acc = get_accuracy(temp_train_preds, rand_y)\n",
    "    \n",
    "    if (i+1) % eval_every == 0:\n",
    "        eval_index = np.random.choice(len(test_xdata), size=evaluation_size)\n",
    "        eval_x = test_xdata[eval_index]\n",
    "        eval_x = np.expand_dims(eval_x, 3)\n",
    "        eval_y = test_labels[eval_index]\n",
    "        test_dict = {eval_input: eval_x, eval_target: eval_y}\n",
    "        test_preds = sess.run(test_prediction, feed_dict=test_dict)\n",
    "        temp_test_acc = get_accuracy(test_preds, eval_y)\n",
    "        \n",
    "        # Record and print results\n",
    "        train_loss.append(temp_train_loss)\n",
    "        train_acc.append(temp_train_acc)\n",
    "        test_acc.append(temp_test_acc)\n",
    "        acc_and_loss = [(i+1), temp_train_loss, temp_train_acc, temp_test_acc]\n",
    "        acc_and_loss = [np.round(x,2) for x in acc_and_loss]\n",
    "        print('Generation # {}. Train Loss: {:.2f}. Train Acc (Test Acc): {:.2f} ({:.2f})'.format(*acc_and_loss))"
   ]
  },
  {
   "cell_type": "markdown",
   "metadata": {},
   "source": [
    "**绘制损失和精度曲线图**"
   ]
  },
  {
   "cell_type": "code",
   "execution_count": 13,
   "metadata": {
    "scrolled": true
   },
   "outputs": [
    {
     "data": {
      "image/png": "[encoded data removed]",
      "text/plain": [
       "<Figure size 432x288 with 1 Axes>"
      ]
     },
     "metadata": {
      "needs_background": "light"
     },
     "output_type": "display_data"
    },
    {
     "data": {
      "image/png": "[encoded data removed]",
      "text/plain": [
       "<Figure size 432x288 with 1 Axes>"
      ]
     },
     "metadata": {
      "needs_background": "light"
     },
     "output_type": "display_data"
    }
   ],
   "source": [
    "eval_indices = range(0, generations, eval_every)\n",
    "# 损失曲线图\n",
    "plt.plot(eval_indices, train_loss, 'k-')\n",
    "plt.title('Softmax Loss per Generation')\n",
    "plt.xlabel('Generation')\n",
    "plt.ylabel('Softmax Loss')\n",
    "plt.show()\n",
    "\n",
    "# 训练和测试精度图\n",
    "plt.plot(eval_indices, train_acc, 'k-', label='Train Set Accuracy')\n",
    "plt.plot(eval_indices, test_acc, 'r--', label='Test Set Accuracy')\n",
    "plt.title('Train and Test Accuracy')\n",
    "plt.xlabel('Generation')\n",
    "plt.ylabel('Accuracy')\n",
    "plt.legend(loc='lower right')\n",
    "plt.show()"
   ]
  },
  {
   "cell_type": "markdown",
   "metadata": {},
   "source": [
    "**6. 模型测试**"
   ]
  },
  {
   "cell_type": "code",
   "execution_count": 14,
   "metadata": {},
   "outputs": [
    {
     "data": {
      "image/png": "[encoded data removed]",
      "text/plain": [
       "<Figure size 432x288 with 12 Axes>"
      ]
     },
     "metadata": {
      "needs_background": "light"
     },
     "output_type": "display_data"
    }
   ],
   "source": [
    "actuals = rand_y[0:12]\n",
    "predictions = np.argmax(temp_train_preds,axis=1)[0:12]\n",
    "images = np.squeeze(rand_x[0:12])\n",
    "\n",
    "Nrows = 3\n",
    "Ncols = 4\n",
    "for i in range(12):\n",
    "    plt.subplot(Nrows, Ncols, i+1)\n",
    "    plt.imshow(np.reshape(images[i], [28,28]), cmap='Greys_r')\n",
    "    plt.title('Actual: ' + str(actuals[i]) + ' Pred: ' + str(predictions[i]),\n",
    "                               fontsize=10)\n",
    "    frame = plt.gca()\n",
    "    frame.axes.get_xaxis().set_visible(False)\n",
    "    frame.axes.get_yaxis().set_visible(False)\n",
    "plt.show()"
   ]
  },
  {
   "cell_type": "markdown",
   "metadata": {},
   "source": [
    "**7. 实验作业**  \n",
    "(1) 绘制本实验卷积神经网络结构示意图  \n",
    "(2) 用自己手写的数字图片进行测试"
   ]
  }
 ],
 "metadata": {
  "kernelspec": {
   "display_name": "Python 3",
   "language": "python",
   "name": "python3"
  },
  "language_info": {
   "codemirror_mode": {
    "name": "ipython",
    "version": 3
   },
   "file_extension": ".py",
   "mimetype": "text/x-python",
   "name": "python",
   "nbconvert_exporter": "python",
   "pygments_lexer": "ipython3",
   "version": "3.8.5"
  }
 },
 "nbformat": 4,
 "nbformat_minor": 2
}
