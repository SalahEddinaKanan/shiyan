{
 "cells": [
  {
   "cell_type": "markdown",
   "metadata": {},
   "source": [
    "<div align=\"center\" style=\"margin-left:-60px;\"><img src=\"./images/logoAndTitle.png\", width=\"400\"/></div>\n",
    "<a name=\"Home\"></a>\n",
    "<h1 align=\"center\"><a name=\"home\">实验一 大数据分析基础 — Python语言</a></h1><br/><br/>\n",
    "\n",
    "## 目录\n",
    "<div class=\"alert alert-block alert-info\" style=\"margin-top: 20px\">\n",
    "\n",
    "- [1.实验概览](#Chapter1)\n",
    "- [2.前置问题](#Chapter2)\n",
    "- [3.Python简介](#Chapter3)\n",
    "- [4.约定和规范](#Chapter4)\n",
    "- [5.变量](#Chapter5)\n",
    "- [6.运算](#Chapter6)\n",
    "- [7.控制语句：条件](#Chapter7)\n",
    "- [8.控制语句：循环](#Chapter8)\n",
    "- [9.函数的使用](#Chapter9)\n",
    "- [10.字符串的常见操作](#Chapter10)\n",
    "- [11.列表](#Chapter11)\n",
    "- [12.元组](#Chapter12)\n",
    "- [13.字典](#Chapter13)\n",
    "- [14.实验小结](#Chapter14)\n",
    "\n",
    "</div>\n",
    "\n",
    "## <a name=\"Chapter1\">1. 实验概览</a>\n",
    "- 实验目标：熟悉Python语言的常用语法。\n",
    "- 实验内容：了解Python语言的特点，学习Python常用语法，包括变量、控制语句、函数、字符串、列表、元组、字典的常见操作。\n",
    "- 所属课程：大数据分析概述\n",
    "- 预置知识：编程经验（例如Java、C/C++，有助于理解Python）\n",
    "\n",
    "<hr/>\n",
    "\n",
    "## <a name=\"Chapter2\">2. 前置问题</a>\n",
    "#### 在进入实验前，请先记下这些问题，并带着它们进入实验过程，最后，在本次实验结束时尝试回答这些问题：\n",
    "- Python是什么？在大数据和人工智能领域有什么优势？\n",
    "- Python有常量吗？变量有哪些操作？有哪些类型？\n",
    "- 运算有哪两种？\n",
    "- 什么时候需要用条件控制语句？\n",
    "- 什么时候需要用循环控制语句？循环语句有几种？有何区别？\n",
    "- 函数的用途是什么？函数可以有几个返回值？\n",
    "- 字符串有哪些常用的操作？\n",
    "- 列表如何使用？主要用于什么场合？\n",
    "- 元组和列表有什么不同？主要用于什么场合？\n",
    "- 字典如何使用？主要用于什么场合？\n",
    "<hr/>"
   ]
  },
  {
   "cell_type": "markdown",
   "metadata": {},
   "source": [
    "## <a name=\"Chapter3\">3. Python简介</a>\n",
    "\n",
    "### ❖ 3.1 Python是什么？\n",
    "Python（英国发音：/ˈpaɪθən/美国发音：/ˈpaɪθɑːn/），是一种面向对象的解释型计算机程序设计语言，由荷兰人GuidovanRossum于1989年发明，第一个公开发行版发行于1991年。\n",
    "\n",
    "Python是一种跨平台的计算机程序设计语言。是一种面向对象的动态类型语言，最初被设计用于编写自动化脚本(shell)，随着版本的不断更新和语言新功能的添加，越来越多被用于独立的、大型项目的开发。\n",
    "<hr/>\n",
    "\n",
    "### ❖ 3.2 为什么使用Python?\n",
    "- Python语言目前已经成为全球最主流的数据分析语言\n",
    "- Python定位“优雅”、“明确”、“简单”，初学者入门简单易懂，深入学习也相对轻松\n",
    "- 与网页应用（如Jupyter）和数据库集成性好，开发效率高\n",
    "- 拥有优秀的数据处理包的支持，如NumPy/SciPy（科学计算）、Pandas（数据处理）、matplotlib（图像处理）、scikit-learn（机器学习）等\n",
    "\n",
    "<hr/>\n",
    "\n",
    "### ❖ 3.3 Python的特点\n",
    "- Python使用C语言开发，但是Python不再有C语言中的指针等复杂的数据类型。\n",
    "- Python具有很强的面向对象特性，而且简化了面向对象的实现。它消除了保护类型、抽象类、接口等面向对象的元素。\n",
    "- Python代码块使用空格或制表符缩进的方式分隔代码。\n",
    "- Python仅有31个保留字，而且没有分号、begin、end等标记。\n",
    "- Python是强类型语言，变量创建后会对应一种数据类型，出现在统一表达式中的不同类型的变量需要做类型转换。\n",
    "\n",
    "<hr/>\n",
    "\n",
    "### ❖ 3.4 Python在大数据和人工智能领域的优势\n",
    "\n",
    "#### 优势点：\n",
    "- <b>云计算：</b>\n",
    "开源云计算解决方案OpenStack就是基于Python开发\n",
    "\n",
    "- <b>科学运算和统计：</b>\n",
    "随着NumPy，SciPy，Matplotlib，Enthoughtlibrarys等众多程序库的开发，Python越来越适合于做科学计算、绘制高质量的2D和3D图像。和科学计算领域最流行的商业软件Matlab相比，Python是一门通用的程序设计语言，比Matlab所采用的脚本语言的应用范围更广泛，有更多的程序库的支持。虽然Matlab中的许多高级功能和toolbox目前还是无法替代的，不过在日常的科研开发之中仍然有很多的工作是可以用Python代劳的。\n",
    "\n",
    "- <b>人工智能：</b>\n",
    "Python在人工智能大范畴领域内的机器学习、神经网络、深度学习等方面都是主流的编程语言，得到广泛的支持和应用。\n",
    "\n",
    "- <b>网络爬虫：</b>\n",
    "也称网络蜘蛛，是大数据行业获取数据的核心工具。没有网络爬虫自动地、不分昼夜地、高智能地在互联网上爬取免费的数据，那些大数据相关的公司恐怕要少四分之三。能够编写网络爬虫的编程语言有不少，但Python绝对是其中的主流之一，其Scripy爬虫框架应用非常广泛。\n",
    "\n",
    "<hr/>\n",
    "\n",
    "### ❖ 3.5 开始学习\n",
    "这一次实验课中，我们将由浅入深学习Python语言在大数据领域编程中的基础知识，内容包括：\n",
    "\n",
    "<div class=\"alert alert-success alertsuccess\" style=\"margin-top: 20px\">\n",
    "    \n",
    "#### ➣ 上半部分\n",
    "- 约定和规范\n",
    "- 变量\n",
    "- 运算\n",
    "- 控制语句：条件\n",
    "- 控制语句：循环\n",
    "\n",
    "\n",
    "#### ➣ 下半部分\n",
    "- 函数的使用\n",
    "- 字符串的常见操作\n",
    "- 列表\n",
    "- 元组\n",
    "- 字典\n",
    "</div>\n",
    "\n",
    "<font color=\"green\" style=\"font-style:italic\">注：由于历史原因，Python分为两大版本2.x和3.x，即Python2和Python3。但随着版本更新，2.x已经不推荐使用，我们推荐使用3.6版本以上的Python3。</font>\n",
    "\n",
    "\n",
    "接下来，我们尝试执行一句最简单的Python代码作为本次实验的开始：\n",
    "\n",
    "<span style=\"color: dodgerblue\"># 执行：</span>\n",
    "\n",
    "```python\n",
    "print(\"Hello，Python大数据分析！\") \n",
    "``` "
   ]
  },
  {
   "cell_type": "code",
   "execution_count": null,
   "metadata": {},
   "outputs": [],
   "source": [
    "print(\"Hello，Python大数据分析！\")\n",
    "print(\"Today is Friday!\")\n",
    "b=3**4\n",
    "print(b)"
   ]
  },
  {
   "cell_type": "markdown",
   "metadata": {},
   "source": [
    "<hr/>"
   ]
  },
  {
   "cell_type": "markdown",
   "metadata": {},
   "source": [
    "## <a name=\"Chapter4\">4 约定和规范</a>\n",
    "Python语言和一些常用的语言在语法习惯上略有区别，例如行结束标志、代码块的边界区分和注释等。\n",
    "\n",
    "### ❖ 4.1 Python的一些常见约定习惯如下：\n",
    "- 不像Java和C/C++语言用分号作为行尾标志，Python直接将回车作为行结束符。在Python中，不同语句可合并一行编写，分号即作为分隔符<font color=\"red\">（但不建议）</font>。\n",
    "- 不像Java和C/C++语言用花括号作为代码块的边界，Python用相同的缩进来作为同一作用域代码的界定标志。\n",
    "\n",
    "这些约定的具体使用，会在本实验课程后续知识的具体代码中详细介绍。\n",
    "\n",
    "<hr/>"
   ]
  },
  {
   "cell_type": "markdown",
   "metadata": {},
   "source": [
    "### ❖ 4.2 注释\n",
    "注释分为单行注释和多行注释：\n",
    "- 单行注释：用<b>#</b>作为注释的行起始符\n",
    "- 多行注释：用三个单引号或者双引号将注释语句含括起来"
   ]
  },
  {
   "cell_type": "code",
   "execution_count": null,
   "metadata": {},
   "outputs": [],
   "source": [
    "# 我在实验\n",
    "a=1\n",
    "print(a,b)"
   ]
  },
  {
   "cell_type": "markdown",
   "metadata": {},
   "source": [
    "<font color=\"green\" style=\"font-style:italic\">注：在本实验环境中，也可以直接用快捷组合键“Ctrl + /”来进行快捷地注释。</font>"
   ]
  },
  {
   "cell_type": "code",
   "execution_count": null,
   "metadata": {},
   "outputs": [],
   "source": [
    "'''\n",
    "这是多行注释，用三个单引号\n",
    "这是多行注释，用三个单引号 \n",
    "这是多行注释，用三个单引号\n",
    "'''\n",
    "import numpy as np\n",
    "np.pi"
   ]
  },
  {
   "cell_type": "code",
   "execution_count": null,
   "metadata": {},
   "outputs": [],
   "source": [
    "\"\"\"\n",
    "这是多行注释，用三个双引号\n",
    "这是多行注释，用三个双引号 \n",
    "这是多行注释，用三个双引号\n",
    "\"\"\""
   ]
  },
  {
   "cell_type": "markdown",
   "metadata": {},
   "source": [
    "<br/>此外，三个单引号或者双引号也可以用来注释单行，但用<b>#</b>更为美观方便。"
   ]
  },
  {
   "cell_type": "code",
   "execution_count": null,
   "metadata": {},
   "outputs": [],
   "source": [
    "'''这也可以是一个单行注释'''"
   ]
  },
  {
   "cell_type": "code",
   "execution_count": null,
   "metadata": {},
   "outputs": [],
   "source": [
    "\"\"\"这也可以是一个单行注释\"\"\""
   ]
  },
  {
   "cell_type": "markdown",
   "metadata": {},
   "source": [
    "<hr/>"
   ]
  },
  {
   "cell_type": "markdown",
   "metadata": {},
   "source": [
    "## <a name=\"Chapter5\">5 变量</a>\n",
    "变量是编程语言中最基本的要素之一，用来引用不同的值和对象。  \n",
    "在Python中，并没有提供常量，所以一般约定用全大写的常量名将一个变量假定为常量，例如“USER_LIST”。\n",
    "\n",
    "### ❖ 5.1 变量与赋值\n",
    "- 无论全局变量还是局部变量都不需要事先声明，python会自动声明\n",
    "- 变量第一次使用时无需声明其类型\n",
    "- 等号“=”用于给变量赋值\n",
    "- 变量有其命名规范：由下划线、大小写字母和数字组成，数字不可以在首位，可以用<b>下划线命名法“sample_list”</b>或<b>驼峰命名法“sampleList”</b>\n",
    "\n",
    "#### ➣ 给变量赋值"
   ]
  },
  {
   "cell_type": "code",
   "execution_count": null,
   "metadata": {},
   "outputs": [],
   "source": [
    "a = 1\n",
    "a #用来打印出a的值"
   ]
  },
  {
   "cell_type": "markdown",
   "metadata": {},
   "source": [
    "#### ➣ 打印出变量的值\n",
    "\n",
    "除了直接输入变量名来打印（见上文），也可以用print语句来实现这个操作："
   ]
  },
  {
   "cell_type": "code",
   "execution_count": null,
   "metadata": {},
   "outputs": [],
   "source": [
    "a = 1\n",
    "b = 2\n",
    "print('a=', a, 'b=', b)"
   ]
  },
  {
   "cell_type": "markdown",
   "metadata": {},
   "source": [
    "#### ➣ 删除变量\n",
    "\n",
    "使用del命令可以删除一个变量，当变量被删除后，在当前上下文中将不再存在该变量，再次使用该变量会提示错误。"
   ]
  },
  {
   "cell_type": "code",
   "execution_count": null,
   "metadata": {},
   "outputs": [],
   "source": [
    "c = True\n",
    "del c\n",
    "c"
   ]
  },
  {
   "cell_type": "markdown",
   "metadata": {},
   "source": [
    "错误提示中：<b>NameError: name 'c' is not defined</b>，指出c这个变量未定义，因为已经被删除。\n",
    "<hr/>"
   ]
  },
  {
   "cell_type": "markdown",
   "metadata": {},
   "source": [
    "### 5.2 值类型\n",
    "\n",
    "和其它编程语言一样，Python也有很多内置类型，常用的包括：\n",
    "- <b>None：</b>Python的\"null\"\n",
    "- <b>str：</b>字符串类型，用单引号或双引号引用\n",
    "- <b>bytes：</b>字节类型\n",
    "- <b>int：</b>整型\n",
    "- <b>float：</b>浮点型\n",
    "- <b>bool：</b>布尔型，True或False，即“真”与“假”\n",
    "\n",
    "变量只有在赋值后才能决定其类型，我们来尝试下使用type()函数获取一个变量的类型。"
   ]
  },
  {
   "cell_type": "code",
   "execution_count": 3,
   "metadata": {},
   "outputs": [
    {
     "data": {
      "text/plain": [
       "int"
      ]
     },
     "execution_count": 3,
     "metadata": {},
     "output_type": "execute_result"
    }
   ],
   "source": [
    "a = 1\n",
    "type(a)"
   ]
  },
  {
   "cell_type": "markdown",
   "metadata": {},
   "source": [
    "另外，在实验环境中，可以直接在变量后输入问号\"？\"来获取变量的信息，比如类型（Type）、长度（Length）等。"
   ]
  },
  {
   "cell_type": "code",
   "execution_count": 2,
   "metadata": {},
   "outputs": [],
   "source": [
    "b = 'Hello'\n",
    "b?"
   ]
  },
  {
   "cell_type": "markdown",
   "metadata": {},
   "source": [
    "<font color=\"green\" style=\"font-style: italic\">注：在一个方法之后输入问号\"?\"，同样也能显示方法的详细信息。</font>\n",
    "<hr/>\n",
    "\n",
    "### <font color=\"red\">小实验</font>\n",
    "将两个变量值互换并输出："
   ]
  },
  {
   "cell_type": "code",
   "execution_count": null,
   "metadata": {},
   "outputs": [],
   "source": [
    "# 先不要看答案，尝试自己在这里输入实现代码\n",
    "\n",
    "\n",
    "\n",
    "\n",
    "\n",
    "\n",
    "\n",
    "\n",
    "\n",
    "\n"
   ]
  },
  {
   "cell_type": "markdown",
   "metadata": {},
   "source": [
    "<br/><br/><br/><br/><br/><br/><br/><br/><br/><br/><br/><br/><br/><br/><br/><br/><br/><br/><br/><br/>\n",
    "<hr/>\n",
    "\n",
    "### <font color=\"blue\">答案：</font>\n",
    "```python\n",
    "a = 1; b = 2 # 分号在Python中不用于语句结尾，而是用于分割两个语句\n",
    "print('a=', a, ', b=', b)  # 打印输入a和b的值，下同\n",
    "c = a\n",
    "a = b\n",
    "b = c\n",
    "print('a=', a, ', b=', b)\n",
    "```\n",
    "\n",
    "以上是传统编程语言中交换变量值的做法，在Python语言中，有更简单的做法：\n",
    "#### <span style=\"color: dodgerblue\">代码示例:</span> \n",
    "```python\n",
    "a = 1\n",
    "b = 2\n",
    "print('a=', a, ', b=', b)\n",
    "a, b = b, a\n",
    "print('a=', a, ', b=', b)\n",
    "```"
   ]
  },
  {
   "cell_type": "markdown",
   "metadata": {},
   "source": [
    "<hr/>\n",
    "\n",
    "## <a name=\"Chapter6\">6 运算</a>\n",
    "常见的运算包括<font style=\"font-weight:bolder\">数学运算</font>和<font style=\"font-weight:bolder\">逻辑运算</font>。<br/>\n",
    "数学运算适用于于数字类型数值：整型、浮点型等；而逻辑运算适用于布尔类型数值。\n",
    "\n",
    "### ❖ 6.1 常用数学运算\n",
    "\n",
    "- <b>加法：</b>运算符“+”\n",
    "- <b>减法：</b>运算符“-”\n",
    "- <b>乘法：</b>运算符“*”\n",
    "- <b>除法：</b>运算符“/”\n",
    "- <b>整除：</b>运算符“//”\n",
    "- <b>幂次方：</b>运算符“**”"
   ]
  },
  {
   "cell_type": "code",
   "execution_count": null,
   "metadata": {},
   "outputs": [],
   "source": [
    "# 乘法\n",
    "3.3 * 25"
   ]
  },
  {
   "cell_type": "code",
   "execution_count": null,
   "metadata": {},
   "outputs": [],
   "source": [
    "# 整除\n",
    "20 // 6"
   ]
  },
  {
   "cell_type": "code",
   "execution_count": null,
   "metadata": {},
   "outputs": [],
   "source": [
    "# 幂次方\n",
    "2 ** 3"
   ]
  },
  {
   "cell_type": "code",
   "execution_count": null,
   "metadata": {},
   "outputs": [],
   "source": [
    "# 您可以在这里尝试更多的数学运算\n",
    "\n",
    "\n",
    "\n",
    "\n"
   ]
  },
  {
   "cell_type": "markdown",
   "metadata": {},
   "source": [
    "<hr/>\n",
    "\n",
    "### ❖ 6.2 常用逻辑运算\n",
    "\n",
    "- <b>等于：</b>==\n",
    "- <b>不等于：</b>!=\n",
    "- <b>大于：</b>>\n",
    "- <b>大于等于：</b>>=\n",
    "- <b>小于：</b><\n",
    "- <b>小于等于：</b><=\n",
    "- <b>且：</b>and\n",
    "- <b>或：</b>or\n",
    "- <b>判同：</b>is\n",
    "- <b>判非：</b>is not\n",
    "- <b>分隔符：</b>小括号()"
   ]
  },
  {
   "cell_type": "code",
   "execution_count": null,
   "metadata": {},
   "outputs": [],
   "source": [
    "# 等于\n",
    "3 == 2"
   ]
  },
  {
   "cell_type": "code",
   "execution_count": null,
   "metadata": {},
   "outputs": [],
   "source": [
    "# 不等于\n",
    "4 != 3"
   ]
  },
  {
   "cell_type": "code",
   "execution_count": null,
   "metadata": {},
   "outputs": [],
   "source": [
    "# 小于等于\n",
    "2.2 <= 3.0"
   ]
  },
  {
   "cell_type": "code",
   "execution_count": null,
   "metadata": {},
   "outputs": [],
   "source": [
    "# 判非\n",
    "3 is not 2"
   ]
  },
  {
   "cell_type": "code",
   "execution_count": 73,
   "metadata": {},
   "outputs": [
    {
     "data": {
      "text/plain": [
       "True"
      ]
     },
     "execution_count": 73,
     "metadata": {},
     "output_type": "execute_result"
    }
   ],
   "source": [
    "# 组合条件\n",
    "3 > 2 and 4 < 5"
   ]
  },
  {
   "cell_type": "code",
   "execution_count": null,
   "metadata": {},
   "outputs": [],
   "source": [
    "# 您可以在这里尝试更多的逻辑运算\n",
    "\n",
    "\n",
    "\n",
    "\n"
   ]
  },
  {
   "cell_type": "markdown",
   "metadata": {},
   "source": [
    "<font color=\"green\" style=\"font-style: italic\">注：对于数组、集合的逻辑运算，还有“in”和“not in”这两个运算符。</font>\n",
    "\n",
    "<hr/>\n",
    "\n",
    "### <font color=\"red\">小实验</font>\n",
    "请结合数学运算和逻辑运算判断4个数值0.76、0.83、0.81、0.82的平均值是否大于0.8。<br/>"
   ]
  },
  {
   "cell_type": "code",
   "execution_count": null,
   "metadata": {},
   "outputs": [],
   "source": [
    "# 先不要看答案，尝试自己在这里输入实现代码\n",
    "\n",
    "\n",
    "\n",
    "\n"
   ]
  },
  {
   "cell_type": "markdown",
   "metadata": {},
   "source": [
    "<br/><br/><br/><br/><br/><br/><br/><br/><br/><br/><br/><br/><br/><br/><br/><br/><br/><br/><br/><br/>\n",
    "<hr/>\n",
    "\n",
    "### <font color=\"blue\">答案：</font>\n",
    "```python\n",
    "(0.76 + 0.83 + 0.81 + 0.82)/4 > 0.8\n",
    "```\n",
    "\n",
    "<hr/>\n",
    "\n",
    "## <a name=\"Chapter7\">7 控制语句：条件</a>\n",
    "控制语句通过条件判断来决定程序代码的走向，控制语句主要包括<font style=\"font-weight:bolder\">条件</font>和<font style=\"font-weight:bolder\">循环</font>两大类。<br/>\n",
    "在业务应用或数学分析中，我们经常需要根据根据不同的条件（组合）结果来决定执行哪一段分支代码，这时候，就需要 if 语句来进行判断。\n",
    "\n",
    "\n",
    "### ❖ 7.1 if语句的语法：\n",
    "```python\n",
    "if <条件1>:\n",
    "    # 语句块1\n",
    "elif <条件2>:\n",
    "    # 语句块2\n",
    "...\n",
    "else:\n",
    "    # 语句块\n",
    "```\n",
    "\n",
    "其中，“elif”可以出现多次。\n",
    "\n",
    "#### ➣ 一个简单例子"
   ]
  },
  {
   "cell_type": "code",
   "execution_count": null,
   "metadata": {},
   "outputs": [],
   "source": [
    "gender = '男'\n",
    "if gender == '男':\n",
    "    print(\"这是一个男性\")\n",
    "else:\n",
    "    print(\"这是一个女性\")"
   ]
  },
  {
   "cell_type": "markdown",
   "metadata": {},
   "source": [
    "#### ➣ 一个多条件 + 多行语句块的复杂例子"
   ]
  },
  {
   "cell_type": "code",
   "execution_count": null,
   "metadata": {},
   "outputs": [],
   "source": [
    "age = 55\n",
    "if age >= 60:\n",
    "    ageType = \"老年\"\n",
    "elif age >= 40 and age < 60:\n",
    "    ageType = \"中年\"\n",
    "elif age >= 18 and age < 40:\n",
    "    ageType = \"青年\"\n",
    "else:\n",
    "    ageType = \"少年儿童\"\n",
    "print(ageType)"
   ]
  },
  {
   "cell_type": "markdown",
   "metadata": {},
   "source": [
    "<hr/>\n",
    "\n",
    "### <font color=\"red\">小实验</font>\n",
    "将上面两个例子合并，以区分年纪和性别。"
   ]
  },
  {
   "cell_type": "code",
   "execution_count": null,
   "metadata": {},
   "outputs": [],
   "source": [
    "# 先不要看答案，尝试自己在这里输入实现代码\n",
    "age = 55\n",
    "gender = '男'\n",
    "\n",
    "# 用条件控制语句编写代码，通过分步判断，最后打印输出“中年男性”\n",
    "\n",
    "\n",
    "\n",
    "\n",
    "\n",
    "\n",
    "\n",
    "\n"
   ]
  },
  {
   "cell_type": "markdown",
   "metadata": {},
   "source": [
    "<br/><br/><br/><br/><br/><br/><br/><br/><br/><br/><br/><br/><br/><br/><br/><br/><br/><br/><br/><br/>\n",
    "<hr/>\n",
    "\n",
    "### <font color=\"blue\">答案：</font>\n",
    "```python\n",
    "age = 55\n",
    "gender = '男'\n",
    "if age >= 60:\n",
    "    if gender=='男':\n",
    "        print('老年男性')\n",
    "    else:\n",
    "        print('老年女性')\n",
    "elif age >= 40 and age < 60:\n",
    "    if gender=='男':\n",
    "        print('中年男性')\n",
    "    else:\n",
    "        print('中年女性')\n",
    "elif age >= 18 and age < 40:\n",
    "    if gender=='男':\n",
    "        print('青年男性')\n",
    "    else:\n",
    "        print('青年女性')\n",
    "else:\n",
    "    if gender=='男':\n",
    "        print('少年男性')\n",
    "    else:\n",
    "        print('少年女性')\n",
    "```"
   ]
  },
  {
   "cell_type": "markdown",
   "metadata": {},
   "source": [
    "<hr/>"
   ]
  },
  {
   "cell_type": "markdown",
   "metadata": {},
   "source": [
    "## <a name=\"Chapter8\">8 控制语句：循环</a>\n",
    "有时候在业务逻辑中，可能在满足一定条件下，需要某段代码执行多次，这时候就需要循环语句，循环语句包括 for 和 while 两种。\n",
    "\n",
    "### ❖ 8.1 for 循环\n",
    "for循环常用于需要对某个数据结构或者某个数据范围内对每一个或每间隔几个元素进行一次处理。\n",
    "\n",
    "一个针对数列生成器的例子："
   ]
  },
  {
   "cell_type": "code",
   "execution_count": null,
   "metadata": {},
   "outputs": [],
   "source": [
    "for i in range(0, 10, 2):\n",
    "    print(i)"
   ]
  },
  {
   "cell_type": "markdown",
   "metadata": {},
   "source": [
    "<font color=\"green\">注：range(0, 10，2)用来生成一个从0开始10结束步长为2的数列。</font>\n",
    "\n",
    "<hr/>\n",
    "\n",
    "### ❖ 8.2 while 循环\n",
    "while循环常用于对某些条件的判断来重复执行某些代码。\n",
    "\n",
    "下面是一个使用while循环的例子："
   ]
  },
  {
   "cell_type": "code",
   "execution_count": null,
   "metadata": {},
   "outputs": [],
   "source": [
    "i = 0\n",
    "step = 10\n",
    "max = 100\n",
    "while i < max:\n",
    "    i = i + step\n",
    "    print(i)"
   ]
  },
  {
   "cell_type": "markdown",
   "metadata": {},
   "source": [
    "<hr/>\n",
    "\n",
    "### ❖ 8.3 for 和 while 的区别\n",
    "- for循环适用于已知循环次数的循环；while循环适用于未知循环次数的循环\n",
    "- for主要应用在遍历中，例如遍历列表和元组；而while很少用于遍历，while主要用于判断符合条件下循环\n",
    "\n",
    "<hr/>\n",
    "\n",
    "### ❖ 8.4 从循环中中途退出\n",
    "有些时候，需要在循环过程中强制退出，比如在循环中加入了一些条件判断，当判断不满足时强制跳出循环，这时候就需要使用<b>break</b>语句，举个例子："
   ]
  },
  {
   "cell_type": "code",
   "execution_count": null,
   "metadata": {},
   "outputs": [],
   "source": [
    "i = 0\n",
    "while True:\n",
    "    if i >= 10:\n",
    "        break;    # 满足条件时直接跳出循环 \n",
    "    i = i + 1\n",
    "    print(i)"
   ]
  },
  {
   "cell_type": "markdown",
   "metadata": {},
   "source": [
    "<hr/>\n",
    "\n",
    "### <font color=\"red\">小实验</font>\n",
    "\n",
    "设计一个猜数字游戏，输入3次机会猜出一个10以内的随机整数。\n",
    "\n",
    "<font color=\"green\">注：随机数函数为：random.randint(m, n)，input()为获取输入函数，int()将字符串转为整数。</font>"
   ]
  },
  {
   "cell_type": "code",
   "execution_count": null,
   "metadata": {},
   "outputs": [],
   "source": [
    "import random\n",
    "secretnum = random.randint(1,10)\n",
    "count = 3\n",
    "print(\"猜数字游戏，数字在1到10之间，你有{0}次机会\".format(count))\n",
    "while (count > 0):\n",
    "    num = input(\"输入一个数字：\")\n",
    "    num = int(num)\n",
    "    \n",
    "    # 在这里请填入适当的代码以完成实验功能\n",
    "    \n",
    "    \n",
    "    \n",
    "    \n",
    "    \n",
    "print(\"游戏结束！\")"
   ]
  },
  {
   "cell_type": "markdown",
   "metadata": {},
   "source": [
    "<br/><br/><br/><br/><br/><br/><br/><br/><br/><br/><br/><br/><br/><br/><br/><br/><br/><br/><br/><br/>\n",
    "<hr/>\n",
    "\n",
    "### <font color=\"blue\">答案：</font>\n",
    "```python\n",
    "import random\n",
    "secretnum = random.randint(1,10)\n",
    "count = 3\n",
    "print(\"猜数字游戏，数字在1到10之间，你有{0}次机会\".format(count))\n",
    "while (count > 0):\n",
    "    num = input(\"输入一个数字：\")\n",
    "    num = int(num)\n",
    "    \n",
    "    # 在这里请填入适当的代码以完成实验功能\n",
    "    if num == secretnum:\n",
    "        print(\"正确\")\n",
    "        break\n",
    "    elif num < secretnum:\n",
    "        print(\"不够大\")\n",
    "    else:\n",
    "        print(\"不够小\")\n",
    "    count -= 1\n",
    "    if count == 0:\n",
    "        print(\"3次尝试失败！\")\n",
    "        break\n",
    "    print (\"你还剩余{0}次机会\".format(count))\n",
    "print(\"游戏结束！\")\n",
    "```\n",
    "<hr/>"
   ]
  },
  {
   "cell_type": "markdown",
   "metadata": {},
   "source": [
    "## <a name=\"Chapter9\">9. 函数的使用</a>\n",
    "\n",
    "函数是一个具有特定功能的且可复用的代码块，它可以传入参数，封装运算，在最后也可以返回给调用者运算好的结果（也可以没有返回值，只是执行封装的操作）。<br/>\n",
    "    函数名有其命名规范：由下划线、大小写字母和数字组成，数字不可以在首位，可以用<b>下划线命名法“get_sample_list()”</b>或<b>驼峰命名法“getSampleList()”</b>。\n",
    "    \n",
    "### ❖ 9.1 函数的分类\n",
    "函数可分为预定义函数和自定义函数：\n",
    "- 预定义函数：Python官方包中或者第三方包中提供的已经编写好可供调用的函数。\n",
    "- 自定义函数：用户自己定义的函数。\n",
    "<hr/>\n",
    "\n",
    "### ❖ 9.2 预定义函数\n",
    "在Python中，提供很多系统自带的函数；一些常用数学分析包例如NumPy、Pandas、matplotlib，也提供自己定制的函数。  \n",
    "常用的系统预定义函数有print()、input()、类型判断、类型转换函数等：\n",
    "\n",
    "#### ➣ print()\n",
    "\n",
    "用来打印输出\n",
    "\n",
    "1）普通例子"
   ]
  },
  {
   "cell_type": "code",
   "execution_count": null,
   "metadata": {},
   "outputs": [],
   "source": [
    "print(\"Hello！\")"
   ]
  },
  {
   "cell_type": "markdown",
   "metadata": {},
   "source": [
    "2）逗号隔开的拼接方式"
   ]
  },
  {
   "cell_type": "code",
   "execution_count": null,
   "metadata": {},
   "outputs": [],
   "source": [
    "name = \"张三\"\n",
    "gender = \"男\"\n",
    "print(\"姓名：\", name, \", 性别：\", gender)"
   ]
  },
  {
   "cell_type": "markdown",
   "metadata": {},
   "source": [
    "3）格式化字符串"
   ]
  },
  {
   "cell_type": "code",
   "execution_count": null,
   "metadata": {},
   "outputs": [],
   "source": [
    "print(\"the length of (%s) is %d\" %('runoob',len('runoob'))) # %s表示字符串，%d代表整数"
   ]
  },
  {
   "cell_type": "markdown",
   "metadata": {},
   "source": [
    "4）参数代入"
   ]
  },
  {
   "cell_type": "code",
   "execution_count": null,
   "metadata": {},
   "outputs": [],
   "source": [
    "name = \"张三\"\n",
    "gender = \"男\"\n",
    "print(\"姓名：{0}, 性别：{1}\".format(name, gender))"
   ]
  },
  {
   "cell_type": "markdown",
   "metadata": {},
   "source": [
    "<hr/>\n",
    "\n",
    "#### ➣ input()\n",
    "\n",
    "用来接受一个输入"
   ]
  },
  {
   "cell_type": "code",
   "execution_count": null,
   "metadata": {},
   "outputs": [],
   "source": [
    "str = input(\"请输入：\")\n",
    "str"
   ]
  },
  {
   "cell_type": "markdown",
   "metadata": {},
   "source": [
    "<hr/>\n",
    "\n",
    "#### ➣ 类型转换："
   ]
  },
  {
   "cell_type": "code",
   "execution_count": null,
   "metadata": {},
   "outputs": [],
   "source": [
    "# 字符串转换成整型\n",
    "str = '123'\n",
    "print(int(str))"
   ]
  },
  {
   "cell_type": "markdown",
   "metadata": {},
   "source": [
    "<hr/>\n",
    "\n",
    "### ❖ 9.3 自定义函数\n",
    "\n",
    "语法：\n",
    "```python\n",
    "def <方法名>(参数):\n",
    "    # 语句块\n",
    "    return <值>\n",
    "```\n",
    "\n",
    "1）一个简单例子："
   ]
  },
  {
   "cell_type": "code",
   "execution_count": null,
   "metadata": {},
   "outputs": [],
   "source": [
    "def hello(name):\n",
    "    return \"Hello, \" + name\n",
    "\n",
    "print(hello(\"小张\"))"
   ]
  },
  {
   "cell_type": "markdown",
   "metadata": {},
   "source": [
    "<br/>\n",
    "2）一个多参数的例子："
   ]
  },
  {
   "cell_type": "code",
   "execution_count": null,
   "metadata": {},
   "outputs": [],
   "source": [
    "def printKeyAndValues(key, *values):\n",
    "    print(key, ': ', end='')\n",
    "    for value in values:\n",
    "        print(value, ' ', end='')\n",
    "        \n",
    "printKeyAndValues('StudentNo', '201', '223', '329', '531')"
   ]
  },
  {
   "cell_type": "markdown",
   "metadata": {},
   "source": [
    "<br/>\n",
    "3）与Java等其它编程语言不同，Python语言的函数还支持多返回值，例子如下："
   ]
  },
  {
   "cell_type": "code",
   "execution_count": null,
   "metadata": {},
   "outputs": [],
   "source": [
    "def changeValue(a, b):\n",
    "    return a + b, a - b\n",
    "\n",
    "a = 1; b = 2\n",
    "c, d = changeValue(a, b)\n",
    "print(\"a=\", a, \", b=\", b, \", c=\", c, \", d=\", d)"
   ]
  },
  {
   "cell_type": "markdown",
   "metadata": {},
   "source": [
    "<hr/>\n",
    "\n",
    "### <font color=\"red\">小实验</font>\n",
    "编写一个函数，返回值为输入的多个数值（数量不固定）的数量以及总和："
   ]
  },
  {
   "cell_type": "code",
   "execution_count": null,
   "metadata": {},
   "outputs": [],
   "source": [
    "# 先不要看答案，尝试自己在这里输入实现代码\n",
    "def sumValues(*values):\n",
    "    count = 0\n",
    "    total = 0\n",
    "    for value in values:\n",
    "        count += 1\n",
    "        total += value\n",
    "    return count, total\n",
    "\n",
    "count, total = sumValues(3.5, 1.2, 5.7, 6.6, 8.3, 1.4)\n",
    "print(\"count=\", count, \", total=\", total)\n",
    "\n",
    "\n",
    "\n",
    "\n"
   ]
  },
  {
   "cell_type": "markdown",
   "metadata": {},
   "source": [
    "<br/><br/><br/><br/><br/><br/><br/><br/><br/><br/><br/><br/><br/><br/><br/><br/><br/><br/><br/><br/>\n",
    "<hr/>\n",
    "\n",
    "### <font color=\"blue\">答案：</font>\n",
    "```python\n",
    "def sumValues(*values):\n",
    "    count = 0\n",
    "    total = 0\n",
    "    for value in values:\n",
    "        count += 1\n",
    "        total += value\n",
    "    return count, total\n",
    "\n",
    "count, total = sumValues(3.5, 1.2, 5.7, 6.6, 8.3, 1.4)\n",
    "print(\"count=\", count, \", total=\", total)\n",
    "```"
   ]
  },
  {
   "cell_type": "markdown",
   "metadata": {},
   "source": [
    "<hr/>\n",
    "\n",
    "## <a name=\"Chapter10\">10. 字符串常用操作</a>\n",
    "\n",
    "在数据分析中，经常会对字符串进行一些处理，比如转换和清洗等，这就需要我们掌握一些字符串的常用操作。\n",
    "\n",
    "### ❖ 10.1 字符串的创建\n",
    "\n",
    "字符串是由独立字符组成的一个序列，通常包含在单引号（''）双引号（\"\"）或者三引号之中（''' '''或\"\"\" \"\"\"，两者一样）\n",
    "\n",
    "#### ➣ 用单引号创建"
   ]
  },
  {
   "cell_type": "code",
   "execution_count": null,
   "metadata": {},
   "outputs": [],
   "source": [
    "name = 'Jack'\n",
    "name"
   ]
  },
  {
   "cell_type": "markdown",
   "metadata": {},
   "source": [
    "#### ➣ 用双引号创建\n",
    "双引号的好处就是，方便在字符串中，内嵌带引号的字符串。"
   ]
  },
  {
   "cell_type": "code",
   "execution_count": null,
   "metadata": {},
   "outputs": [],
   "source": [
    "str = \"That's right!\""
   ]
  },
  {
   "cell_type": "markdown",
   "metadata": {},
   "source": [
    "#### ➣ 用三引号创建\n",
    "三引号主要用于多行字符串。"
   ]
  },
  {
   "cell_type": "code",
   "execution_count": null,
   "metadata": {},
   "outputs": [],
   "source": [
    "str = \"\"\"\n",
    "id1: 001\n",
    "id2: 002\n",
    "id3: 003\n",
    "\"\"\"\n",
    "str"
   ]
  },
  {
   "cell_type": "markdown",
   "metadata": {},
   "source": [
    "<hr/>\n",
    "\n",
    "### ❖ 10.2 字符串的索引、切片和遍历\n",
    "字符串可以想象成一个由单个字符组成的数组，所以，Python 的字符串同样支持索引，切片和遍历等等操作。\n",
    "\n",
    "#### ➣ 索引"
   ]
  },
  {
   "cell_type": "code",
   "execution_count": null,
   "metadata": {},
   "outputs": [],
   "source": [
    "name = \"Jack\"\n",
    "name[1]"
   ]
  },
  {
   "cell_type": "markdown",
   "metadata": {},
   "source": [
    "#### ➣ 切片\n",
    "\n",
    "<font color=\"green\" style=\"font-style:italic\">注：字符串切片和列表切片方式相同，具体方法可参考列表切片章节。</font>"
   ]
  },
  {
   "cell_type": "code",
   "execution_count": null,
   "metadata": {},
   "outputs": [],
   "source": [
    "name[1:3]"
   ]
  },
  {
   "cell_type": "markdown",
   "metadata": {},
   "source": [
    "➣ 遍历\n",
    "\n",
    "<font color=\"green\" style=\"font-style:italic\">注：类似列表的遍历。</font>"
   ]
  },
  {
   "cell_type": "code",
   "execution_count": null,
   "metadata": {},
   "outputs": [],
   "source": [
    "for char in name:\n",
    "    print(char)   "
   ]
  },
  {
   "cell_type": "markdown",
   "metadata": {},
   "source": [
    "<hr/>\n",
    "\n",
    "### ❖ 10.3 字符串常用函数\n",
    "\n",
    "#### ➣ len()\n",
    "用来获取字符串的长度。"
   ]
  },
  {
   "cell_type": "code",
   "execution_count": null,
   "metadata": {},
   "outputs": [],
   "source": [
    "str26 = \"The quick brown fox jumps over a lazy dog．\"\n",
    "len(str26)"
   ]
  },
  {
   "cell_type": "markdown",
   "metadata": {},
   "source": [
    "#### ➣ upper()\n",
    "将字符串中所有字母变成大写，并返回为一个新的字符串副本。（即调用方法后，原字符串值不变，返回的是一个新的字符串，下同）"
   ]
  },
  {
   "cell_type": "code",
   "execution_count": null,
   "metadata": {},
   "outputs": [],
   "source": [
    "str26.upper()"
   ]
  },
  {
   "cell_type": "markdown",
   "metadata": {},
   "source": [
    "<font color=\"green\">注：这时候继续打印原字符串，发现并没有发生变化，表示调用方法后，原字符串值不变，返回的是一个新的字符串，后续的函数都是如此</font>"
   ]
  },
  {
   "cell_type": "code",
   "execution_count": null,
   "metadata": {},
   "outputs": [],
   "source": [
    "str26  # 在调用了str26.upper()之后str26本身并没有发生变化"
   ]
  },
  {
   "cell_type": "markdown",
   "metadata": {},
   "source": [
    "#### ➣ lower()\n",
    "将字符串中所有字母变成小写，并返回为一个新的字符串副本。"
   ]
  },
  {
   "cell_type": "code",
   "execution_count": null,
   "metadata": {},
   "outputs": [],
   "source": [
    "str26.lower()"
   ]
  },
  {
   "cell_type": "markdown",
   "metadata": {},
   "source": [
    "#### ➣ title()\n",
    "将字符串的首字母变成大写，并返回为一个新的字符串副本。"
   ]
  },
  {
   "cell_type": "code",
   "execution_count": null,
   "metadata": {},
   "outputs": [],
   "source": [
    "str1 = \"fox\"\n",
    "str1.title()"
   ]
  },
  {
   "cell_type": "markdown",
   "metadata": {},
   "source": [
    "#### ➣ replace()\n",
    "将字符串中希望被替换的字符串（第一个参数）替换为目标字符串（第二个参数），并返回为一个新的字符串副本。"
   ]
  },
  {
   "cell_type": "code",
   "execution_count": null,
   "metadata": {},
   "outputs": [],
   "source": [
    "str26.replace(\"dog\", \"cat\")"
   ]
  },
  {
   "cell_type": "markdown",
   "metadata": {},
   "source": [
    "#### ➣ split()\n",
    "将字符串根据指定的间隔符拆分成多个字符串组成一个列表返回，其中默认间隔符是空格。"
   ]
  },
  {
   "cell_type": "code",
   "execution_count": null,
   "metadata": {},
   "outputs": [],
   "source": [
    "words = str26.split()\n",
    "words"
   ]
  },
  {
   "cell_type": "markdown",
   "metadata": {},
   "source": [
    "拆分成的列表可以通过循环打印输出"
   ]
  },
  {
   "cell_type": "code",
   "execution_count": null,
   "metadata": {},
   "outputs": [],
   "source": [
    "for word in words:\n",
    "    print(word)"
   ]
  },
  {
   "cell_type": "markdown",
   "metadata": {},
   "source": [
    "#### ➣ lstrip()、rstrip()、strip()\n",
    "将字符串去除左端、右端、两端的空格，并返回为一个新的字符串副本。"
   ]
  },
  {
   "cell_type": "code",
   "execution_count": null,
   "metadata": {},
   "outputs": [],
   "source": [
    "str1 = \" Fox \"\n",
    "\n",
    "# 去除左端的空格\n",
    "str1.lstrip()"
   ]
  },
  {
   "cell_type": "code",
   "execution_count": null,
   "metadata": {},
   "outputs": [],
   "source": [
    "# 去除右端的空格\n",
    "str1.rstrip()"
   ]
  },
  {
   "cell_type": "code",
   "execution_count": null,
   "metadata": {},
   "outputs": [],
   "source": [
    "# 去除两端的空格\n",
    "str1.strip()"
   ]
  },
  {
   "cell_type": "markdown",
   "metadata": {},
   "source": [
    "#### ➣ format\n",
    "\n",
    "有时我们会需要用一个字符串作为模板，模板中会有格式符<font color=\"steelblue\" style=\"font-weight:bold\">{}/{数字}</font>。这些格式符为后续真实值预留位置，以呈现出真实值应该呈现的格式。字符串的格式化，通常会用在程序的输出、logging 等场景。\n",
    "\n",
    "#### <font color=\"orangered\" style=\"font-weight:bolder\">注意，预留的格式符的数量必须与format函数的参数数量一致。</font>"
   ]
  },
  {
   "cell_type": "code",
   "execution_count": null,
   "metadata": {},
   "outputs": [],
   "source": [
    "id = \"001\"\n",
    "name = \"张三\"\n",
    "str = \"User id:{0}, name:{1}\".format(id, name)\n",
    "str"
   ]
  },
  {
   "cell_type": "markdown",
   "metadata": {},
   "source": [
    "<font color=\"green\" style=\"font-style:normal\">注：字符串格式化还有一种旧的写法，如下例所示：（其中 %s 表示字符串型，%d 表示整型）</font>"
   ]
  },
  {
   "cell_type": "code",
   "execution_count": null,
   "metadata": {},
   "outputs": [],
   "source": [
    "id = 1\n",
    "name = \"张三\"\n",
    "str = \"User id:%d, name:%s\" %(id, name)\n",
    "str"
   ]
  },
  {
   "cell_type": "markdown",
   "metadata": {},
   "source": [
    "<hr/>\n",
    "\n",
    "### <font color=\"red\">小实验</font>\n",
    "将\n",
    "\n",
    "#### \"The quick brown fox jumps over a lazy dog．\"\n",
    "\n",
    "这句话的每个单词都变为首字母大写。"
   ]
  },
  {
   "cell_type": "code",
   "execution_count": null,
   "metadata": {},
   "outputs": [],
   "source": [
    "str26 = \"The quick brown fox jumps over a lazy dog．\"\n",
    "# 先不要看答案，尝试自己在这里输入实现代码\n",
    "\n",
    "\n",
    "\n",
    "\n"
   ]
  },
  {
   "cell_type": "markdown",
   "metadata": {},
   "source": [
    "<br/><br/><br/><br/><br/><br/><br/><br/><br/><br/><br/><br/><br/><br/><br/><br/><br/><br/><br/><br/>\n",
    "<hr/>\n",
    "\n",
    "### <font color=\"blue\">答案：</font>\n",
    "```python\n",
    "str26 = \"The quick brown fox jumps over a lazy dog．\"\n",
    "# 先不要看答案，尝试自己在这里输入实现代码\n",
    "words = str26.split()\n",
    "str26New = ''\n",
    "for word in words:\n",
    "    str26New = str26New + word.title() + ' '\n",
    "str26New.rstrip()\n",
    "```"
   ]
  },
  {
   "cell_type": "markdown",
   "metadata": {},
   "source": [
    "<hr/>\n",
    "\n",
    "## <a name=\"Chapter11\">11. 列表</a>\n",
    "\n",
    "列表是Python中内置有序、可变序列，用来存放一组数据，这些数据可以是不同的数据类型。\n",
    "\n",
    "### ❖ 11.1 列表的特点\n",
    "- 列表由多个元素组成，每个元素用放在一对中括号“[]”中，并使用逗号分隔开\n",
    "- 每个元素都有索引，首位从0开始，依次累加1\n",
    "- 支持添加、修改、删除操作\n",
    "- 支持切片操作（[:]），切片操作返回新的副本\n",
    "- 列表解析是一种快速组装新列表的方法\n",
    "- 列表支持多维，例如[[1, 2], [3, 4]]就是一个2 x 2的二维列表\n",
    "- 当列表元素增加或删除时，列表对象自动进行扩展或收缩内存，保证元素之间没有缝隙\n",
    "- 在Python中，一个列表中的数据类型可以各不相同，可以同时分别为整数、实数、字符串等基本类型，甚至是列表、元组、字典、集合以及其他自定义类型的对象：\n",
    "    - [1, 2, 3, 4]  \n",
    "    - ['cat', 'dog', 'rabbit']  \n",
    "    - ['张三', 21, '男', [175.5, 72.0]]  \n",
    "    - [['货物1', 300], ['货物2', 220]]（列表嵌套）\n",
    "\n",
    "<font color=\"green\">注：在Python常用称谓约定里，“列表”一般指Python的列表，“数组”一般指Numpy数组（随后实验课程中会讲）</font>\n",
    "\n",
    "<hr/>\n",
    "\n",
    "### ❖ 11.2 列表的创建\n",
    "\n",
    "#### ➣ 创建一个空列表"
   ]
  },
  {
   "cell_type": "code",
   "execution_count": null,
   "metadata": {},
   "outputs": [],
   "source": [
    "emptyList = []\n",
    "emptyList"
   ]
  },
  {
   "cell_type": "markdown",
   "metadata": {},
   "source": [
    "#### ➣ 显式创建一个列表"
   ]
  },
  {
   "cell_type": "code",
   "execution_count": null,
   "metadata": {},
   "outputs": [],
   "source": [
    "sampleList = ['a', 'b', 'c']\n",
    "sampleList"
   ]
  },
  {
   "cell_type": "markdown",
   "metadata": {},
   "source": [
    "<br/>\n",
    "列表可以包含重复的元素值"
   ]
  },
  {
   "cell_type": "code",
   "execution_count": null,
   "metadata": {},
   "outputs": [],
   "source": [
    "sampleList = ['a', 'b', 'c', 'd', 'd', 'd']\n",
    "sampleList"
   ]
  },
  {
   "cell_type": "markdown",
   "metadata": {},
   "source": [
    "<br/>\n",
    "列表也可以包含不同类型的元素值"
   ]
  },
  {
   "cell_type": "code",
   "execution_count": null,
   "metadata": {},
   "outputs": [],
   "source": [
    "sampleList = [1, 'a', 2, 'b', 3, 'c']\n",
    "sampleList"
   ]
  },
  {
   "cell_type": "markdown",
   "metadata": {},
   "source": [
    "<br/>\n",
    "列表可以不止一维，还可以有二维和更高的维度，在科学运算中用来表示矩阵和向量。"
   ]
  },
  {
   "cell_type": "code",
   "execution_count": null,
   "metadata": {},
   "outputs": [],
   "source": [
    "# 创建一个二维列表\n",
    "dim2List = [[1, 2], [3, 4], [5, 6]]\n",
    "dim2List"
   ]
  },
  {
   "cell_type": "markdown",
   "metadata": {},
   "source": [
    "#### ➣ 用range()函数快速创建一个列表"
   ]
  },
  {
   "cell_type": "code",
   "execution_count": null,
   "metadata": {},
   "outputs": [],
   "source": [
    "sampleList = list(range(0, 10, 2))\n",
    "sampleList"
   ]
  },
  {
   "cell_type": "markdown",
   "metadata": {},
   "source": [
    "#### ➣ 用copy()函数创建列表的副本"
   ]
  },
  {
   "cell_type": "code",
   "execution_count": null,
   "metadata": {},
   "outputs": [],
   "source": [
    "sampleList = list(range(0, 10, 2))\n",
    "newList = sampleList.copy()\n",
    "newList"
   ]
  },
  {
   "cell_type": "markdown",
   "metadata": {},
   "source": [
    "<hr/>\n",
    "\n",
    "### ❖ 11.3 列表元素的取值和赋值\n",
    "\n",
    "#### ➣ 列表元素的取值\n",
    "\n",
    "可以通过“列表[序号]”的方式来正向取值，序号从0开始。"
   ]
  },
  {
   "cell_type": "code",
   "execution_count": null,
   "metadata": {},
   "outputs": [],
   "source": [
    "sampleList = ['a', 'b', 'c']\n",
    "#正向读取值\n",
    "sampleList[0]"
   ]
  },
  {
   "cell_type": "markdown",
   "metadata": {},
   "source": [
    "<br/>\n",
    "也可以通过序号是负数的方式来从列表右端反向取值，负数序号从-1开始。"
   ]
  },
  {
   "cell_type": "code",
   "execution_count": null,
   "metadata": {},
   "outputs": [],
   "source": [
    "sampleList[-1]"
   ]
  },
  {
   "cell_type": "markdown",
   "metadata": {},
   "source": [
    "#### ➣ 列表元素的赋值\n",
    "和列表的取值一样，通过正整数序号或者负整数序号来从左端或右端指定位置给列表元素赋值（修改值）。"
   ]
  },
  {
   "cell_type": "code",
   "execution_count": null,
   "metadata": {},
   "outputs": [],
   "source": [
    "list1 = [1, 2, 3]\n",
    "list1[0] = 4\n",
    "list1[-1] = 7\n",
    "list1"
   ]
  },
  {
   "cell_type": "markdown",
   "metadata": {},
   "source": [
    "<hr/>\n",
    "\n",
    "### ❖ 11.4 列表元素的增加和删除\n",
    "\n",
    "#### ➣ 从列表尾部追加新元素：列表.append(value)，value是要插入的新元素值"
   ]
  },
  {
   "cell_type": "code",
   "execution_count": null,
   "metadata": {},
   "outputs": [],
   "source": [
    "list1 = [1, 2, 3]\n",
    "list1.append(4)\n",
    "list1"
   ]
  },
  {
   "cell_type": "markdown",
   "metadata": {},
   "source": [
    "#### ➣ 从列表指定序号之前插入新元素：列表.insert(index, value)，index是序号，value是新元素值"
   ]
  },
  {
   "cell_type": "code",
   "execution_count": null,
   "metadata": {},
   "outputs": [],
   "source": [
    "list1 = ['a', 'c', 'd', 'e']\n",
    "list1.insert(1, 'b')\n",
    "list1"
   ]
  },
  {
   "cell_type": "markdown",
   "metadata": {},
   "source": [
    "#### ➣ 在列表后追加列表：列表.extend(新列表)"
   ]
  },
  {
   "cell_type": "code",
   "execution_count": null,
   "metadata": {},
   "outputs": [],
   "source": [
    "list1 = [1, 2, 3]\n",
    "list1.extend([4, 5, 6])\n",
    "list1"
   ]
  },
  {
   "cell_type": "markdown",
   "metadata": {},
   "source": [
    "#### ➣ 还有一种更简单的追加列表的方法，就是直接用“+”号"
   ]
  },
  {
   "cell_type": "code",
   "execution_count": null,
   "metadata": {},
   "outputs": [],
   "source": [
    "[1, 2, 3] + [4, 5, 6]"
   ]
  },
  {
   "cell_type": "markdown",
   "metadata": {},
   "source": [
    "#### ➣ 想要对列表现有的元素数量（不是值）进行翻倍，可以对列表使用乘法“*”"
   ]
  },
  {
   "cell_type": "code",
   "execution_count": null,
   "metadata": {},
   "outputs": [],
   "source": [
    "[1, 2, 3] * 2"
   ]
  },
  {
   "cell_type": "markdown",
   "metadata": {},
   "source": [
    "#### ➣ 删除列表的指定元素\n",
    "\n",
    "<b>方法1：</b>用 del 指令删除指定列表元素：del 列表[序号]"
   ]
  },
  {
   "cell_type": "code",
   "execution_count": null,
   "metadata": {},
   "outputs": [],
   "source": [
    "list1 = ['a', 'b', 'c']\n",
    "del list1[2]\n",
    "list1"
   ]
  },
  {
   "cell_type": "markdown",
   "metadata": {},
   "source": [
    "<font color=\"green\" style=\"font-style:italic\">注：列表删除中间某个元素后，后一个元素会自动前移。</font>"
   ]
  },
  {
   "cell_type": "markdown",
   "metadata": {},
   "source": [
    "<b>方法2：</b>用列表的 pop 函数来删除指定序号的元素：列表.pop(index)，其中index是序号。index如果不传，则默认删除最后一个元素"
   ]
  },
  {
   "cell_type": "code",
   "execution_count": null,
   "metadata": {},
   "outputs": [],
   "source": [
    "list1 = ['a', 'b', 'c']\n",
    "# 不传参，默认删除最后一个元素\n",
    "list1.pop()\n",
    "list1"
   ]
  },
  {
   "cell_type": "code",
   "execution_count": null,
   "metadata": {},
   "outputs": [],
   "source": [
    "# 删除第一个元素\n",
    "list1.pop(0)\n",
    "list1"
   ]
  },
  {
   "cell_type": "markdown",
   "metadata": {},
   "source": [
    "<b>方法3：</b>用列表的 remove 函数来删除指定值的元素：列表.remove(value)，其中value是要删掉的指定元素值"
   ]
  },
  {
   "cell_type": "code",
   "execution_count": null,
   "metadata": {},
   "outputs": [],
   "source": [
    "list1 = ['a', 'b', 'c']\n",
    "list1.remove('b')\n",
    "list1"
   ]
  },
  {
   "cell_type": "markdown",
   "metadata": {},
   "source": [
    "<hr/>\n",
    "\n",
    "### ❖ 11.5 列表元素的查找和定位\n",
    "\n",
    "#### ➣ 用 in 来判断列表中是否存在某元素值"
   ]
  },
  {
   "cell_type": "code",
   "execution_count": null,
   "metadata": {},
   "outputs": [],
   "source": [
    "'a' in ['a', 'b', 'c']"
   ]
  },
  {
   "cell_type": "code",
   "execution_count": null,
   "metadata": {},
   "outputs": [],
   "source": [
    "1 in ['a', 'b', 'c']"
   ]
  },
  {
   "cell_type": "markdown",
   "metadata": {},
   "source": [
    "#### ➣ 在列表中定位某元素值的序号\n",
    "\n",
    "#### <font color=\"steelblue\">列表.index(value)</font>\n",
    "  \n",
    "其中value是需要定位的元素值"
   ]
  },
  {
   "cell_type": "code",
   "execution_count": null,
   "metadata": {},
   "outputs": [],
   "source": [
    "list1 = ['a', 'b', 'c']\n",
    "list1.index('c')"
   ]
  },
  {
   "cell_type": "markdown",
   "metadata": {},
   "source": [
    "<hr/>\n",
    "\n",
    "### ❖ 11.6 列表的拆包\n",
    "列表的拆包就是在一句语句中将列表的多个元素值同时按顺序赋给多个变量，是一种高效的做法。"
   ]
  },
  {
   "cell_type": "code",
   "execution_count": null,
   "metadata": {},
   "outputs": [],
   "source": [
    "a, b, c=[1, 2, 3]\n",
    "print(\"a=\", a, \", b=\", b, \", c=\", c)"
   ]
  },
  {
   "cell_type": "markdown",
   "metadata": {},
   "source": [
    "<br/>\n",
    "带*号的变量，可以按顺序将多余的元素赋予一个拆分后的子列表。"
   ]
  },
  {
   "cell_type": "code",
   "execution_count": null,
   "metadata": {},
   "outputs": [],
   "source": [
    "a, b, *c=[1, 2, 3, 4, 5]\n",
    "print(\"a=\", a, \", b=\", b, \", c=\", c)"
   ]
  },
  {
   "cell_type": "markdown",
   "metadata": {},
   "source": [
    "<br/>\n",
    "在Python中，有个特殊的临时变量叫“_”，其作用更多是用来做一个占位符。"
   ]
  },
  {
   "cell_type": "code",
   "execution_count": null,
   "metadata": {},
   "outputs": [],
   "source": [
    "a, b, *_=[1, 2, 3, 4, 5]\n",
    "print(\"a=\", a, \", b=\", b, \", _=\", _)"
   ]
  },
  {
   "cell_type": "markdown",
   "metadata": {},
   "source": [
    "<hr/>\n",
    "\n",
    "### ❖ 11.7 列表的统计\n",
    "\n",
    "#### ➣ 获取列表的长度\n",
    "\n",
    "#### <font color=\"steelblue\">len(列表)</font>"
   ]
  },
  {
   "cell_type": "code",
   "execution_count": null,
   "metadata": {},
   "outputs": [],
   "source": [
    "list1 = [1, 2, 3, 4, 5]\n",
    "len(list1)"
   ]
  },
  {
   "cell_type": "markdown",
   "metadata": {},
   "source": [
    "#### ➣ 获取某个值在列表中的出现次数\n",
    "\n",
    "#### <font color=\"steelblue\">列表.count(value)</font>\n",
    "\n",
    "其中value就是需要查找的那个元素值。"
   ]
  },
  {
   "cell_type": "code",
   "execution_count": null,
   "metadata": {},
   "outputs": [],
   "source": [
    "list1 = [1, 2, 2, 3, 3, 3, 4, 4, 4, 4, 5, 5, 5, 5, 5]\n",
    "list1.count(4)"
   ]
  },
  {
   "cell_type": "markdown",
   "metadata": {},
   "source": [
    "<hr/>\n",
    "\n",
    "### ❖ 11.8 列表的排序\n",
    "\n",
    "#### ➣ 排序\n",
    "\n",
    "#### <font color=\"steelblue\">列表.sort()</font>"
   ]
  },
  {
   "cell_type": "code",
   "execution_count": null,
   "metadata": {},
   "outputs": [],
   "source": [
    "list1 = [3, 1, 9, 4, 7]\n",
    "list1.sort()\n",
    "list1"
   ]
  },
  {
   "cell_type": "markdown",
   "metadata": {},
   "source": [
    "<br/>\n",
    "上面的排序是正序排序，如果想要反序排序，可以在函数中增加参数：sort(reverse=True)。"
   ]
  },
  {
   "cell_type": "code",
   "execution_count": null,
   "metadata": {},
   "outputs": [],
   "source": [
    "list1 = [3, 1, 9, 4, 7]\n",
    "list1.sort(reverse=True)\n",
    "list1"
   ]
  },
  {
   "cell_type": "markdown",
   "metadata": {},
   "source": [
    "#### <font color=\"steelblue\" style=\"font-weight:bold\">sorted(列表)</font>\n",
    "\n",
    "有时候我们在对列表排序的时候<b>并不想改变原有列表的元素顺序</b>，而是想返回一个新列表 ，这时候可以使用这个函数。"
   ]
  },
  {
   "cell_type": "code",
   "execution_count": null,
   "metadata": {},
   "outputs": [],
   "source": [
    "list1 = [3, 1, 9, 4, 7]\n",
    "list2 = sorted(list1, reverse=True)\n",
    "print('list1=', list1, \", list2=\", list2)"
   ]
  },
  {
   "cell_type": "markdown",
   "metadata": {},
   "source": [
    "#### ➣ 反转列表，将列表的元素顺序彻底颠倒过来\n",
    "\n",
    "#### <font color=\"steelblue\">列表.reverse()</font>"
   ]
  },
  {
   "cell_type": "code",
   "execution_count": null,
   "metadata": {},
   "outputs": [],
   "source": [
    "list1 = [3, 1, 9, 4, 7]\n",
    "list1.reverse()\n",
    "list1"
   ]
  },
  {
   "cell_type": "markdown",
   "metadata": {},
   "source": [
    "#### <font color=\"steelblue\" style=\"font-weight:bold\">revered(列表)</font>\n",
    "同样，有时候我们在反转列表的时候<b>并不想改变原有列表的元素顺序</b>，而是想返回一个新列表，这时候可以使用这个函数。\n",
    "<br>但需要注意的是，reversed函数返回的是一个迭代器，所以需要用list()方法转换成列表。"
   ]
  },
  {
   "cell_type": "code",
   "execution_count": null,
   "metadata": {},
   "outputs": [],
   "source": [
    "list1 = [3, 1, 9, 4, 7]\n",
    "list2 = list(reversed(list1))\n",
    "print('list1=', list1, \", list2=\", list2)"
   ]
  },
  {
   "cell_type": "markdown",
   "metadata": {},
   "source": [
    "<hr/>\n",
    "\n",
    "### ❖ 11.9 列表的遍历\n",
    "\n",
    "#### ➣ 用 for 循环语句遍历"
   ]
  },
  {
   "cell_type": "code",
   "execution_count": null,
   "metadata": {},
   "outputs": [],
   "source": [
    "list1 = [1, 2, 3, 4, 5]\n",
    "for value in list1:\n",
    "    print(value, end=\" \")"
   ]
  },
  {
   "cell_type": "markdown",
   "metadata": {},
   "source": [
    "#### ➣ 用 for 和 enumerate 的组合进行循环遍历\n",
    "在 for 循环里加上 enumerate 函数，可以方便地获取当前循环次数："
   ]
  },
  {
   "cell_type": "code",
   "execution_count": null,
   "metadata": {},
   "outputs": [],
   "source": [
    "list1 = [1, 2, 3, 4, 5]\n",
    "for i, v in enumerate(list1):  # 其中i是列表元素序号（从0开始），v是列表元素值\n",
    "    print(\"value[{0}]={1}\".format(i, v))"
   ]
  },
  {
   "cell_type": "markdown",
   "metadata": {},
   "source": [
    "#### ➣ 用 for 循环和 zip() 函数进行多列表组合遍历\n",
    "zip() 函数用于将若干个可迭代的对象作为参数，将其打包成一个个元组，然后返回由这些元组组成的列表。<font color=\"green\">（注：元组的具体概念可在下文学习）</font>"
   ]
  },
  {
   "cell_type": "code",
   "execution_count": null,
   "metadata": {},
   "outputs": [],
   "source": [
    "schools = ['光明中学', '育才中学', '控江中学', '复旦附中', '上海中学']\n",
    "enrolmentNumbers = [83, 122, 97, 89, 101]\n",
    "for i, (school, number) in enumerate(zip(schools, enrolmentNumbers)):\n",
    "    print(\"学校[{0}]：{1}，招生人数{2}。\".format(i, school, number))"
   ]
  },
  {
   "cell_type": "markdown",
   "metadata": {},
   "source": [
    "<hr/>\n",
    "\n",
    "### ❖ 11.10 列表切片\n",
    "\n",
    "列表切片用来选取列表的一个子集并返回新的副本。\n",
    "\n",
    "语法：<font color=\"blue\" style=\"font-weight:bold\">列表[start:stop:step]</font>，其中 <b>start</b> 是开始索引序号，<b>stop</b> 是结束索引序号，<b>step</b> 是步长\n",
    "- <b>start >= 0：</b>从列表左端为起点，从0开始计算，超出列表长度则起点大于列表长度，返回空列表\n",
    "- <b>start < 0：</b>从列表右端起第一个元素为-1，超出列表长度则等价于从起点0开始\n",
    "- <b>stop >= 0：</b>从列表左端为起点，从0开始计算，但不包含n指定的那个单元\n",
    "- <b>stop < 0：</b>从列表右端起第一个元素为-1，但不包含n指定的那个单元，超出列表长度则终点小于起点，返回空列表\n",
    "\n",
    "下图通过一个具体例子形象地说明了 start 和 stop 这两个参数的作用：\n",
    "\n",
    "<img src=\"./images/Python1.indexUseageOfList.png\" align=\"left\" width=\"800\"/>"
   ]
  },
  {
   "cell_type": "markdown",
   "metadata": {},
   "source": [
    "#### ➣ 以下以一个列表为例，演示不同下表的不同效果："
   ]
  },
  {
   "cell_type": "code",
   "execution_count": null,
   "metadata": {},
   "outputs": [],
   "source": [
    "sampleList = list(\"Hello!\")\n",
    "sampleList"
   ]
  },
  {
   "cell_type": "markdown",
   "metadata": {},
   "source": [
    "<br/>\n",
    "用切片取出前5个字符<b>（start >= 0, stop >= 0）</b>"
   ]
  },
  {
   "cell_type": "code",
   "execution_count": null,
   "metadata": {},
   "outputs": [],
   "source": [
    "sampleList[0:5]"
   ]
  },
  {
   "cell_type": "markdown",
   "metadata": {},
   "source": [
    "<br/>\n",
    "如果没有指定第一个索引，则表示从列表首元素开始，等价于sampleList[0:5]"
   ]
  },
  {
   "cell_type": "code",
   "execution_count": null,
   "metadata": {},
   "outputs": [],
   "source": [
    "sampleList[:5]"
   ]
  },
  {
   "cell_type": "markdown",
   "metadata": {},
   "source": [
    "<br/>\n",
    "如果没有指定第二个索引，则表示截止至列表的末尾元素，等价于sampleList[1:6]"
   ]
  },
  {
   "cell_type": "code",
   "execution_count": null,
   "metadata": {},
   "outputs": [],
   "source": [
    "sampleList[1:]"
   ]
  },
  {
   "cell_type": "markdown",
   "metadata": {},
   "source": [
    "<br/>\n",
    "第一个索引的负数表示离列表末尾相应距离的元素，等价于sampleList[2:6]<b>（start < 0）</b>"
   ]
  },
  {
   "cell_type": "code",
   "execution_count": null,
   "metadata": {},
   "outputs": [],
   "source": [
    "sampleList[-4:]"
   ]
  },
  {
   "cell_type": "markdown",
   "metadata": {},
   "source": [
    "<br/>\n",
    "第二个索引的负数同样表示离列表末尾相应距离的元素，等价于sampleList[0:2]<b>（stop < 0）</b>"
   ]
  },
  {
   "cell_type": "code",
   "execution_count": null,
   "metadata": {},
   "outputs": [],
   "source": [
    "sampleList[:-1]"
   ]
  },
  {
   "cell_type": "markdown",
   "metadata": {},
   "source": [
    "<br/>\n",
    "结合未指定第一个索引和第二个索引的情况，表示从列表首元素至末元素，等价于sampleList[0:6]"
   ]
  },
  {
   "cell_type": "code",
   "execution_count": null,
   "metadata": {},
   "outputs": [],
   "source": [
    "sampleList[:]"
   ]
  },
  {
   "cell_type": "markdown",
   "metadata": {},
   "source": [
    "<h4><font color=\"coral\">★ 小技巧：利用列表解析，结合第三个step参数，可以很方便地实现列表翻转操作.</font></h4>"
   ]
  },
  {
   "cell_type": "code",
   "execution_count": null,
   "metadata": {},
   "outputs": [],
   "source": [
    "sampleList[::-1]"
   ]
  },
  {
   "cell_type": "markdown",
   "metadata": {},
   "source": [
    "# <hr/>\n",
    "\n",
    "### ❖ 11.11 列表解析\n",
    "\n",
    "列表解析式是将一个列表（实际上适用于任何可迭代对象（iterable））转换成另一个列表的工具。在转换过程中，可以指定元素必须符合一定的条件，才能添加至新的列表中，这样每个元素都可以按需要进行转换。\n",
    "\n",
    "#### ➣ 创建一个列表，元素值为1-10之间每个数字的平方："
   ]
  },
  {
   "cell_type": "code",
   "execution_count": null,
   "metadata": {},
   "outputs": [],
   "source": [
    "[value ** 2 for value in range(1, 11)]"
   ]
  },
  {
   "cell_type": "markdown",
   "metadata": {},
   "source": [
    "#### ➣ 创建一个新列表，将原有字符串数组的每个元素首字母大写："
   ]
  },
  {
   "cell_type": "code",
   "execution_count": null,
   "metadata": {},
   "outputs": [],
   "source": [
    "[value.title() for value in ['monday', 'tuesday', 'wednesday', 'thirsday', 'friday', 'saturday', 'sunday']]"
   ]
  },
  {
   "cell_type": "markdown",
   "metadata": {},
   "source": [
    "<hr/>\n",
    "\n",
    "### <font color=\"red\">小实验</font>\n",
    "现有一个列表：[1,1,2,2,3,4,5,5,6]，去掉其中的重复值。"
   ]
  },
  {
   "cell_type": "code",
   "execution_count": null,
   "metadata": {},
   "outputs": [],
   "source": [
    "list0=[1,1,2,2,3,4,5,5,6]\n",
    "# 先不要看答案，尝试自己在这里输入实现代码\n",
    "\n",
    "\n",
    "\n",
    "\n"
   ]
  },
  {
   "cell_type": "markdown",
   "metadata": {},
   "source": [
    "<br/><br/><br/><br/><br/><br/><br/><br/><br/><br/><br/><br/><br/><br/><br/><br/><br/><br/><br/><br/>\n",
    "<hr/>\n",
    "\n",
    "### <font color=\"blue\">答案：</font>\n",
    "```python\n",
    "list0=[1,1,2,2,3,4,5,5,6]\n",
    "# 先不要看答案，尝试自己在这里输入实现代码\n",
    "list1=[]\n",
    "for i in list0:\n",
    "    if not i in list1:\n",
    "        list1.append(i)\n",
    "print(list1)\n",
    "```"
   ]
  },
  {
   "cell_type": "markdown",
   "metadata": {},
   "source": [
    "<hr/>\n",
    "\n",
    "## <a name=\"Chapter12\">12. 元组</a>\n",
    "元组是一种固定长度、不可变的Python对象序列。  \n",
    "元组可以看做是一个只读版本的列表，除了元素不可修改，其它操作和列表极为类似（比如切片、解析等）。  \n",
    "\n",
    "#### 元组和列表的区别\n",
    "- 在代码中，元组是圆括号，列表是方括号\n",
    "- 列表是动态的，长度大小不固定，可以随意地增加、删减或者改变元素（mutable）；元组是静态的，长度大小固定，无法增加删减或者改变（immutable）\n",
    "\n",
    "\n",
    "### ❖ 12.1 元组的创建\n",
    "\n",
    "#### ➣ 最常见的方法就是用圆括号包围一串序列。"
   ]
  },
  {
   "cell_type": "code",
   "execution_count": null,
   "metadata": {},
   "outputs": [],
   "source": [
    "turple1 = (1, 2, 3, 4, 5)\n",
    "turple1"
   ]
  },
  {
   "cell_type": "markdown",
   "metadata": {},
   "source": [
    "#### ➣ 元组中只包含一个元素时，需要在元素后面添加逗号，这点与列表不同。"
   ]
  },
  {
   "cell_type": "code",
   "execution_count": null,
   "metadata": {},
   "outputs": [],
   "source": [
    "turple1 = (3,)\n",
    "turple1"
   ]
  },
  {
   "cell_type": "markdown",
   "metadata": {},
   "source": [
    "#### ➣ 也可以直接用一串逗号分隔的序列值来创建元组。"
   ]
  },
  {
   "cell_type": "code",
   "execution_count": null,
   "metadata": {},
   "outputs": [],
   "source": [
    "turple1 = 'a', 'b', 'c'\n",
    "turple1"
   ]
  },
  {
   "cell_type": "markdown",
   "metadata": {},
   "source": [
    "<hr/>\n",
    "\n",
    "### ❖ 12.2 元组与列表之间的转换\n",
    "\n",
    "#### ➣ 列表转元组，语法：turple(列表)"
   ]
  },
  {
   "cell_type": "code",
   "execution_count": null,
   "metadata": {},
   "outputs": [],
   "source": [
    "tuple(['a', 'b', 'c'])"
   ]
  },
  {
   "cell_type": "markdown",
   "metadata": {},
   "source": [
    "#### ➣ 元组转列表，语法：list(元组)"
   ]
  },
  {
   "cell_type": "code",
   "execution_count": null,
   "metadata": {},
   "outputs": [],
   "source": [
    "list(('a', 'b', 'c'))"
   ]
  },
  {
   "cell_type": "markdown",
   "metadata": {},
   "source": [
    "<hr/>\n",
    "\n",
    "## <a name=\"Chapter13\">13. 字典</a>\n",
    "\n",
    "字典是Python中最重要的数据结构，是一系列由键（key）和值（value）配对组成的元素的集合，其中键和值都是不同类型的Python对象。  \n",
    "左右两个花括号是字典的明显特征 <b>“{'name' ： '张三'}”</b>。\n",
    "\n",
    "<font color=\"green\" style=\"font-style:italic\">注：在 Python3.7+，字典被确定为有序，实验环境的Python版本满足此版本要求。</font>\n",
    "\n",
    "### ❖ 13.1 字典的创建\n",
    "\n",
    "#### ➣ 显式创建\n",
    "\n",
    "#### <font color=\"steelblue\">语法：{key1 : value1 ... keyN : valueN}</font>"
   ]
  },
  {
   "cell_type": "code",
   "execution_count": null,
   "metadata": {},
   "outputs": [],
   "source": [
    "# 创建一个空字典\n",
    "dic1 = {}\n",
    "dic1"
   ]
  },
  {
   "cell_type": "code",
   "execution_count": null,
   "metadata": {},
   "outputs": [],
   "source": [
    "user1 = {'id' : '0001', 'name' : 'Tom', 'age' : 23}\n",
    "user1"
   ]
  },
  {
   "cell_type": "markdown",
   "metadata": {},
   "source": [
    "#### ➣ 用列表创建"
   ]
  },
  {
   "cell_type": "code",
   "execution_count": null,
   "metadata": {},
   "outputs": [],
   "source": [
    "dic1 = dict(zip(['a', 'b', 'c'], [1, 2, 3]))\n",
    "dic1"
   ]
  },
  {
   "cell_type": "markdown",
   "metadata": {},
   "source": [
    "<hr/>\n",
    "\n",
    "### ❖ 13.2 字典键值对的取值和增删改\n",
    "\n",
    "#### ➣ 取值\n",
    "\n",
    "#### <font color=\"steelblue\">语法：字典名[键]</font>"
   ]
  },
  {
   "cell_type": "code",
   "execution_count": null,
   "metadata": {},
   "outputs": [],
   "source": [
    "user1 = {'id' : '0001', 'name' : 'Tom', 'age' : 23}\n",
    "user1['name']"
   ]
  },
  {
   "cell_type": "markdown",
   "metadata": {},
   "source": [
    "<br/>通过get函数，也可以获取字典中某个键的值，当字典中不存在该键的时候，还可以设置默认读取值。\n",
    "\n",
    "#### <font color=\"steelblue\">语法：字典名.get(键, 默认值)</font>"
   ]
  },
  {
   "cell_type": "code",
   "execution_count": null,
   "metadata": {},
   "outputs": [],
   "source": [
    "user1.get('name', 'N/A')"
   ]
  },
  {
   "cell_type": "code",
   "execution_count": null,
   "metadata": {},
   "outputs": [],
   "source": [
    "# user1中不存在'gender'这个键，因此返回了传入的默认值'Male'\n",
    "user1.get('gender', 'Male')"
   ]
  },
  {
   "cell_type": "markdown",
   "metadata": {},
   "source": [
    "#### ➣ 赋值\n",
    "\n",
    "#### <font color=\"steelblue\">语法：字典名[键] = 值</font>\n",
    "\n",
    "如果字典中存在该键，则修改该键的值；如果不存在，则创建此键值对。"
   ]
  },
  {
   "cell_type": "code",
   "execution_count": null,
   "metadata": {},
   "outputs": [],
   "source": [
    "user1 = {'id' : '0001', 'name' : 'Tom', 'age' : 23}\n",
    "# user1中存在给出的键\n",
    "user1['age'] = 24\n",
    "user1"
   ]
  },
  {
   "cell_type": "code",
   "execution_count": null,
   "metadata": {},
   "outputs": [],
   "source": [
    "# user1中不存在给出的键\n",
    "user1['gender'] = 'Male'\n",
    "user1"
   ]
  },
  {
   "cell_type": "markdown",
   "metadata": {},
   "source": [
    "<br/>\n",
    "也可以通过setdefault函数进行键值增加或修改。\n",
    "\n",
    "#### <font color=\"steelblue\">语法：字典名.setdefault(键, 默认值)</font>\n",
    "  \n",
    "如果字典中包含有给定键，则返回该键对应的值，否则返回为该键设置的值。"
   ]
  },
  {
   "cell_type": "code",
   "execution_count": null,
   "metadata": {},
   "outputs": [],
   "source": [
    "# 字典中存在该键，则返回该键对应的值\n",
    "dic1={'a':[1, 2], 'b':[5, 6]}\n",
    "values = dic1.setdefault('a', [])\n",
    "values.append(3)\n",
    "dic1"
   ]
  },
  {
   "cell_type": "code",
   "execution_count": null,
   "metadata": {},
   "outputs": [],
   "source": [
    "# 字典中不存在该键，则创建该键，并用传入的默认值作为该键的值，并返回此默认值\n",
    "dic1={'a':[1, 2], 'b':[5, 6]}\n",
    "values = dic1.setdefault('c', [])\n",
    "values.append(3)\n",
    "dic1"
   ]
  },
  {
   "cell_type": "markdown",
   "metadata": {},
   "source": [
    "#### ➣ 字典键值对的删除\n",
    "\n",
    "#### <font color=\"steelblue\">语法：del 字典名[键]</font>"
   ]
  },
  {
   "cell_type": "code",
   "execution_count": null,
   "metadata": {},
   "outputs": [],
   "source": [
    "user1 = {'id' : '0001', 'name' : 'Tom', 'age' : 23}\n",
    "del user1['age']\n",
    "user1"
   ]
  },
  {
   "cell_type": "markdown",
   "metadata": {},
   "source": [
    "#### ➣ 合并两个字典的键值对"
   ]
  },
  {
   "cell_type": "code",
   "execution_count": null,
   "metadata": {},
   "outputs": [],
   "source": [
    "dic1 = {'a':1, 'b':2}\n",
    "dic1.update({'c':3, 'd':4})\n",
    "dic1"
   ]
  },
  {
   "cell_type": "markdown",
   "metadata": {},
   "source": [
    "<hr/>\n",
    "\n",
    "### ❖ 13.3 字典的遍历\n",
    "\n",
    "我们继续使用上面那个字典作为例子："
   ]
  },
  {
   "cell_type": "code",
   "execution_count": null,
   "metadata": {},
   "outputs": [],
   "source": [
    "user1 = {'id' : '0001', 'name' : 'Tom', 'age' : 23, 'gender': 'Male'}\n",
    "user1"
   ]
  },
  {
   "cell_type": "markdown",
   "metadata": {},
   "source": [
    "#### ➣ 遍历键"
   ]
  },
  {
   "cell_type": "code",
   "execution_count": null,
   "metadata": {},
   "outputs": [],
   "source": [
    "for key in user1.keys():\n",
    "    print(\"{0} = {1}\".format(key, user1[key]))"
   ]
  },
  {
   "cell_type": "markdown",
   "metadata": {},
   "source": [
    "<br/>\n",
    "或者用更直接的方式："
   ]
  },
  {
   "cell_type": "code",
   "execution_count": null,
   "metadata": {},
   "outputs": [],
   "source": [
    "for key in user1:\n",
    "    print(\"{0} = {1}\".format(key, user1[key]))"
   ]
  },
  {
   "cell_type": "markdown",
   "metadata": {},
   "source": [
    "#### ➣ 遍历值"
   ]
  },
  {
   "cell_type": "code",
   "execution_count": null,
   "metadata": {},
   "outputs": [],
   "source": [
    "for value in user1.values():\n",
    "    print(value)"
   ]
  },
  {
   "cell_type": "markdown",
   "metadata": {},
   "source": [
    "#### ➣ 遍历键值对"
   ]
  },
  {
   "cell_type": "code",
   "execution_count": null,
   "metadata": {},
   "outputs": [],
   "source": [
    "for key, value in user1.items():\n",
    "    print(key, '=', value)"
   ]
  },
  {
   "cell_type": "markdown",
   "metadata": {},
   "source": [
    "<hr/>\n",
    "\n",
    "### <font color=\"red\">小实验</font>\n",
    "用户从接口中获取了一个字符串片段：\n",
    "\n",
    "#### \"John,M,23,孙女士,女,31,刘先生,男,41\"\n",
    "\n",
    "其中有序地包含了3个用户的身份信息，请将每个用户的信息构造成字典，并将存放多个用户的字典放入一个列表中，格式为：\n",
    "\n",
    "#### “列表[字典{'姓名':'xxx','性别':'<男/女>','年龄':<整型数字>}]”"
   ]
  },
  {
   "cell_type": "code",
   "execution_count": null,
   "metadata": {},
   "outputs": [],
   "source": [
    "# 初始数据\n",
    "str = \"John,M,23,孙女士,女,31,刘先生,男,41\"\n",
    "# 先不要看答案，尝试自己在这里输入实现代码\n",
    "\n",
    "\n",
    "\n",
    "\n"
   ]
  },
  {
   "cell_type": "markdown",
   "metadata": {},
   "source": [
    "<br/><br/><br/><br/><br/><br/><br/><br/><br/><br/><br/><br/><br/><br/><br/><br/><br/><br/><br/><br/>\n",
    "<hr/>\n",
    "\n",
    "### <font color=\"blue\">答案：</font>\n",
    "```python\n",
    "# 初始数据\n",
    "str = \"John,M,23,孙女士,女,31,刘先生,男,41\"\n",
    "# 先不要看答案，尝试自己在这里输入实现代码\n",
    "# 将数据根据分隔符\",\"拆分\n",
    "strPartList = str.split(',')\n",
    "\n",
    "# 获取姓名、性别和年龄各自的列表\n",
    "nameList = strPartList[0::3]\n",
    "genderList = strPartList[1::3]\n",
    "ageList = strPartList[2::3]\n",
    "\n",
    "# 循环构造用户字典并加入字典列表\n",
    "userDicList=[]\n",
    "for i,value in enumerate(nameList):\n",
    "    userDic={}\n",
    "    userDic['姓名'] = value\n",
    "    \n",
    "    # 数据清洗，将性别代码英文统一成中文\n",
    "    gender = genderList[i]\n",
    "    if ('M' == gender): \n",
    "        gender = '男'\n",
    "    elif('F' == gender):\n",
    "        gender = '女'\n",
    "    \n",
    "    userDic['性别'] = gender\n",
    "    userDic['年龄'] = int(ageList[i]) # 将字符串格式的年龄转换成整型\n",
    "    userDicList.append(userDic)\n",
    "userDicList\n",
    "```"
   ]
  },
  {
   "cell_type": "markdown",
   "metadata": {},
   "source": [
    "<hr/>\n",
    "\n",
    "## <a name=\"Chapter14\">14. 实验小结</a>\n",
    "通过本次实践课程，我们熟悉了Python语言的常用使用方法：\n",
    "- 变量\n",
    "- 控制语句\n",
    "- 函数\n",
    "- 列表\n",
    "- 元组\n",
    "- 字典\n",
    "\n",
    "并完成了几个小实验，加深了对这些知识点的理解。\n",
    "\n",
    "### 最后，请再尝试回答这些问题：\n",
    "- Python是什么？在大数据和人工智能领域有什么优势？\n",
    "- Python有常量吗？变量有哪些操作？有哪些类型？\n",
    "- 运算有哪两种？\n",
    "- 什么时候需要用条件控制语句？\n",
    "- 什么时候需要用循环控制语句？循环语句有几种？有何区别？\n",
    "- 函数的用途是什么？函数可以有几个返回值？\n",
    "- 字符串有哪些常用的操作？\n",
    "- 列表如何使用？主要用于什么场合？\n",
    "- 元组和列表有什么不同？主要用于什么场合？\n",
    "- 字典如何使用？主要用于什么场合？\n",
    "\n",
    "<hr/>\n",
    "\n",
    "<h1 align=\"center\" style=\"margin:80px 80px 60px 0;\">恭喜您完成了本次实验课程！<br/></h1>\n",
    "<center style=\"margin:0 80px 0 0\"><a href=\"#Home\">回到顶部</a></center><br/>\n",
    "<center style=\"margin:30px 80px 0 0\"><font color=\"steelblue\">Copyright © 2019 大数据+AI智慧实验室</font></center>"
   ]
  }
 ],
 "metadata": {
  "kernelspec": {
   "display_name": "Python 3",
   "language": "python",
   "name": "python3"
  },
  "language_info": {
   "codemirror_mode": {
    "name": "ipython",
    "version": 3
   },
   "file_extension": ".py",
   "mimetype": "text/x-python",
   "name": "python",
   "nbconvert_exporter": "python",
   "pygments_lexer": "ipython3",
   "version": "3.8.5"
  }
 },
 "nbformat": 4,
 "nbformat_minor": 2
}
